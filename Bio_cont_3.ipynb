{
 "cells": [
  {
   "cell_type": "code",
   "execution_count": 23,
   "metadata": {},
   "outputs": [],
   "source": [
    "import numpy as np\n",
    "import pandas\n",
    "from sklearn import datasets\n",
    "import matplotlib.pyplot as plt\n",
    "from mpl_toolkits.mplot3d import Axes3D\n",
    "from sklearn.cluster import KMeans\n",
    "import networkx as nx"
   ]
  },
  {
   "cell_type": "code",
   "execution_count": 24,
   "metadata": {},
   "outputs": [
    {
     "name": "stdout",
     "output_type": "stream",
     "text": [
      "(248, 81)\n"
     ]
    }
   ],
   "source": [
    "bio_cont_3 = pandas.read_csv('MAM4-exemples/bio_cont_3.csv')\n",
    "print(bio_cont_3.shape)"
   ]
  },
  {
   "cell_type": "code",
   "execution_count": 25,
   "metadata": {},
   "outputs": [
    {
     "data": {
      "text/html": [
       "<div>\n",
       "<style scoped>\n",
       "    .dataframe tbody tr th:only-of-type {\n",
       "        vertical-align: middle;\n",
       "    }\n",
       "\n",
       "    .dataframe tbody tr th {\n",
       "        vertical-align: top;\n",
       "    }\n",
       "\n",
       "    .dataframe thead th {\n",
       "        text-align: right;\n",
       "    }\n",
       "</style>\n",
       "<table border=\"1\" class=\"dataframe\">\n",
       "  <thead>\n",
       "    <tr style=\"text-align: right;\">\n",
       "      <th></th>\n",
       "      <th>valid</th>\n",
       "      <th>K_atp</th>\n",
       "      <th>K_atp:glyc1</th>\n",
       "      <th>K_atp:nopla</th>\n",
       "      <th>K_atp:noprola</th>\n",
       "      <th>K_atp:phoxa</th>\n",
       "      <th>K_atp:glyc1:phoxa</th>\n",
       "      <th>K_atp:glyc1:glyc2</th>\n",
       "      <th>K_atp:nopla:noprola</th>\n",
       "      <th>K_atp:nopla:phoxa</th>\n",
       "      <th>...</th>\n",
       "      <th>K_nadh:gpdh:krebsn:noaas:phoxn</th>\n",
       "      <th>K_nadh:fermn:krebsn:noaas:phoxn</th>\n",
       "      <th>K_nadh:fermn:gpdh:krebsn:noaas:phoxn</th>\n",
       "      <th>K_krebs</th>\n",
       "      <th>K_krebs:box</th>\n",
       "      <th>K_krebs:pnh</th>\n",
       "      <th>K_krebs:pnh:sat</th>\n",
       "      <th>K_phox</th>\n",
       "      <th>K_phox:pc</th>\n",
       "      <th>Error explanation</th>\n",
       "    </tr>\n",
       "  </thead>\n",
       "  <tbody>\n",
       "    <tr>\n",
       "      <th>0</th>\n",
       "      <td>NaN</td>\n",
       "      <td>0.2</td>\n",
       "      <td>0.0</td>\n",
       "      <td>0.0</td>\n",
       "      <td>0.0</td>\n",
       "      <td>1.1</td>\n",
       "      <td>1.1</td>\n",
       "      <td>1.1</td>\n",
       "      <td>0.0</td>\n",
       "      <td>0.2</td>\n",
       "      <td>...</td>\n",
       "      <td>1.1</td>\n",
       "      <td>1.1</td>\n",
       "      <td>1.1</td>\n",
       "      <td>0.0</td>\n",
       "      <td>0.0</td>\n",
       "      <td>1.1</td>\n",
       "      <td>2.2</td>\n",
       "      <td>0.0</td>\n",
       "      <td>1.1</td>\n",
       "      <td>NaN</td>\n",
       "    </tr>\n",
       "    <tr>\n",
       "      <th>1</th>\n",
       "      <td>OK</td>\n",
       "      <td>0.0</td>\n",
       "      <td>0.0</td>\n",
       "      <td>0.0</td>\n",
       "      <td>0.0</td>\n",
       "      <td>1.0</td>\n",
       "      <td>1.0</td>\n",
       "      <td>1.0</td>\n",
       "      <td>0.0</td>\n",
       "      <td>1.0</td>\n",
       "      <td>...</td>\n",
       "      <td>1.0</td>\n",
       "      <td>1.0</td>\n",
       "      <td>1.0</td>\n",
       "      <td>0.0</td>\n",
       "      <td>0.0</td>\n",
       "      <td>1.0</td>\n",
       "      <td>2.0</td>\n",
       "      <td>0.0</td>\n",
       "      <td>1.0</td>\n",
       "      <td>NaN</td>\n",
       "    </tr>\n",
       "    <tr>\n",
       "      <th>2</th>\n",
       "      <td>OK</td>\n",
       "      <td>0.0</td>\n",
       "      <td>0.0</td>\n",
       "      <td>0.0</td>\n",
       "      <td>0.0</td>\n",
       "      <td>1.0</td>\n",
       "      <td>1.0</td>\n",
       "      <td>1.0</td>\n",
       "      <td>0.0</td>\n",
       "      <td>1.0</td>\n",
       "      <td>...</td>\n",
       "      <td>1.0</td>\n",
       "      <td>1.0</td>\n",
       "      <td>1.0</td>\n",
       "      <td>0.0</td>\n",
       "      <td>0.0</td>\n",
       "      <td>1.0</td>\n",
       "      <td>2.0</td>\n",
       "      <td>0.0</td>\n",
       "      <td>1.0</td>\n",
       "      <td>NaN</td>\n",
       "    </tr>\n",
       "    <tr>\n",
       "      <th>3</th>\n",
       "      <td>OK</td>\n",
       "      <td>0.0</td>\n",
       "      <td>0.0</td>\n",
       "      <td>0.0</td>\n",
       "      <td>0.0</td>\n",
       "      <td>1.0</td>\n",
       "      <td>1.0</td>\n",
       "      <td>1.0</td>\n",
       "      <td>0.0</td>\n",
       "      <td>1.0</td>\n",
       "      <td>...</td>\n",
       "      <td>1.0</td>\n",
       "      <td>1.0</td>\n",
       "      <td>1.0</td>\n",
       "      <td>0.0</td>\n",
       "      <td>0.0</td>\n",
       "      <td>1.0</td>\n",
       "      <td>2.0</td>\n",
       "      <td>0.0</td>\n",
       "      <td>1.0</td>\n",
       "      <td>NaN</td>\n",
       "    </tr>\n",
       "    <tr>\n",
       "      <th>4</th>\n",
       "      <td>OK</td>\n",
       "      <td>0.0</td>\n",
       "      <td>0.0</td>\n",
       "      <td>0.0</td>\n",
       "      <td>0.0</td>\n",
       "      <td>1.0</td>\n",
       "      <td>1.0</td>\n",
       "      <td>1.0</td>\n",
       "      <td>0.0</td>\n",
       "      <td>1.0</td>\n",
       "      <td>...</td>\n",
       "      <td>1.0</td>\n",
       "      <td>1.0</td>\n",
       "      <td>1.0</td>\n",
       "      <td>0.0</td>\n",
       "      <td>0.0</td>\n",
       "      <td>1.0</td>\n",
       "      <td>2.0</td>\n",
       "      <td>0.0</td>\n",
       "      <td>1.0</td>\n",
       "      <td>NaN</td>\n",
       "    </tr>\n",
       "  </tbody>\n",
       "</table>\n",
       "<p>5 rows × 81 columns</p>\n",
       "</div>"
      ],
      "text/plain": [
       "  valid  K_atp  K_atp:glyc1  K_atp:nopla  K_atp:noprola  K_atp:phoxa  \\\n",
       "0   NaN    0.2          0.0          0.0            0.0          1.1   \n",
       "1    OK    0.0          0.0          0.0            0.0          1.0   \n",
       "2    OK    0.0          0.0          0.0            0.0          1.0   \n",
       "3    OK    0.0          0.0          0.0            0.0          1.0   \n",
       "4    OK    0.0          0.0          0.0            0.0          1.0   \n",
       "\n",
       "   K_atp:glyc1:phoxa  K_atp:glyc1:glyc2  K_atp:nopla:noprola  \\\n",
       "0                1.1                1.1                  0.0   \n",
       "1                1.0                1.0                  0.0   \n",
       "2                1.0                1.0                  0.0   \n",
       "3                1.0                1.0                  0.0   \n",
       "4                1.0                1.0                  0.0   \n",
       "\n",
       "   K_atp:nopla:phoxa  ...  K_nadh:gpdh:krebsn:noaas:phoxn  \\\n",
       "0                0.2  ...                             1.1   \n",
       "1                1.0  ...                             1.0   \n",
       "2                1.0  ...                             1.0   \n",
       "3                1.0  ...                             1.0   \n",
       "4                1.0  ...                             1.0   \n",
       "\n",
       "   K_nadh:fermn:krebsn:noaas:phoxn  K_nadh:fermn:gpdh:krebsn:noaas:phoxn  \\\n",
       "0                              1.1                                   1.1   \n",
       "1                              1.0                                   1.0   \n",
       "2                              1.0                                   1.0   \n",
       "3                              1.0                                   1.0   \n",
       "4                              1.0                                   1.0   \n",
       "\n",
       "   K_krebs  K_krebs:box  K_krebs:pnh  K_krebs:pnh:sat  K_phox  K_phox:pc  \\\n",
       "0      0.0          0.0          1.1              2.2     0.0        1.1   \n",
       "1      0.0          0.0          1.0              2.0     0.0        1.0   \n",
       "2      0.0          0.0          1.0              2.0     0.0        1.0   \n",
       "3      0.0          0.0          1.0              2.0     0.0        1.0   \n",
       "4      0.0          0.0          1.0              2.0     0.0        1.0   \n",
       "\n",
       "   Error explanation  \n",
       "0                NaN  \n",
       "1                NaN  \n",
       "2                NaN  \n",
       "3                NaN  \n",
       "4                NaN  \n",
       "\n",
       "[5 rows x 81 columns]"
      ]
     },
     "execution_count": 25,
     "metadata": {},
     "output_type": "execute_result"
    }
   ],
   "source": [
    "bio_cont_3.head(5)"
   ]
  },
  {
   "cell_type": "code",
   "execution_count": 26,
   "metadata": {},
   "outputs": [
    {
     "name": "stdout",
     "output_type": "stream",
     "text": [
      "[[nan 0.2 0.0 0.0 0.0 1.1 1.1 1.1 0.0 0.2 0.2 0.2 0.2 0.2 2.2 2.2 0.2 0.2\n",
      "  0.2 1.1 2.2 0.2 2.2 0.2 2.2 0.0 0.0 0.0 0.0 0.0 1.1 0.0 1.1 1.1 1.1 0.0\n",
      "  0.0 1.1 2.2 2.2 0.0 1.1 0.0 0.0 0.0 0.0 0.0 0.0 0.0 0.0 0.0 0.0 0.0 0.0\n",
      "  1.1 0.0 0.0 0.0 1.1 0.0 0.0 0.0 1.1 1.1 1.1 0.0 0.0 1.1 1.1 1.1 1.1 1.1\n",
      "  1.1 1.1 0.0 0.0 1.1 2.2 0.0 1.1 nan]]\n"
     ]
    }
   ],
   "source": [
    "valeurs_possibles = bio_cont_3[:][0:1].values\n",
    "print(valeurs_possibles)"
   ]
  },
  {
   "cell_type": "code",
   "execution_count": 27,
   "metadata": {},
   "outputs": [],
   "source": [
    "bio_cont_3 = bio_cont_3.drop([0],axis=0)"
   ]
  },
  {
   "cell_type": "code",
   "execution_count": 28,
   "metadata": {},
   "outputs": [
    {
     "name": "stdout",
     "output_type": "stream",
     "text": [
      "(247, 81)\n"
     ]
    }
   ],
   "source": [
    "print(bio_cont_3.shape)"
   ]
  },
  {
   "cell_type": "code",
   "execution_count": 29,
   "metadata": {},
   "outputs": [
    {
     "name": "stdout",
     "output_type": "stream",
     "text": [
      "(1, 81)\n"
     ]
    }
   ],
   "source": [
    "valeurs_possibles[0,0] = 0.0\n",
    "valeurs_possibles[0,80] = 0.0\n",
    "print(np.shape(valeurs_possibles))"
   ]
  },
  {
   "cell_type": "code",
   "execution_count": 30,
   "metadata": {},
   "outputs": [],
   "source": [
    "def recup_col_importante(vect_val):\n",
    "    m,n = np.shape(vect_val)\n",
    "    val_import = []\n",
    "    for i in range(n):\n",
    "        a =vect_val[0,i]\n",
    "        entier = int(a)\n",
    "        decim = int(round(a%1,2)*10)\n",
    "        if(entier != decim):\n",
    "            val_import.append(i)\n",
    "    return val_import    "
   ]
  },
  {
   "cell_type": "code",
   "execution_count": 31,
   "metadata": {},
   "outputs": [],
   "source": [
    "v_i = recup_col_importante(valeurs_possibles)"
   ]
  },
  {
   "cell_type": "code",
   "execution_count": 32,
   "metadata": {},
   "outputs": [],
   "source": [
    "v_i.append(0)"
   ]
  },
  {
   "cell_type": "code",
   "execution_count": 33,
   "metadata": {},
   "outputs": [
    {
     "data": {
      "text/html": [
       "<div>\n",
       "<style scoped>\n",
       "    .dataframe tbody tr th:only-of-type {\n",
       "        vertical-align: middle;\n",
       "    }\n",
       "\n",
       "    .dataframe tbody tr th {\n",
       "        vertical-align: top;\n",
       "    }\n",
       "\n",
       "    .dataframe thead th {\n",
       "        text-align: right;\n",
       "    }\n",
       "</style>\n",
       "<table border=\"1\" class=\"dataframe\">\n",
       "  <thead>\n",
       "    <tr style=\"text-align: right;\">\n",
       "      <th></th>\n",
       "      <th>K_atp</th>\n",
       "      <th>K_atp:nopla:phoxa</th>\n",
       "      <th>K_atp:glyc1:nopla</th>\n",
       "      <th>K_atp:noprola:phoxa</th>\n",
       "      <th>K_atp:glyc1:noprola</th>\n",
       "      <th>K_atp:glyc1:glyc2:nopla</th>\n",
       "      <th>K_atp:glyc1:nopla:phoxa</th>\n",
       "      <th>K_atp:glyc1:glyc2:noprola</th>\n",
       "      <th>K_atp:glyc1:noprola:phoxa</th>\n",
       "      <th>K_atp:glyc1:glyc2:nopla:phoxa</th>\n",
       "      <th>K_atp:glyc1:glyc2:noprola:phoxa</th>\n",
       "      <th>valid</th>\n",
       "    </tr>\n",
       "  </thead>\n",
       "  <tbody>\n",
       "    <tr>\n",
       "      <th>1</th>\n",
       "      <td>0.0</td>\n",
       "      <td>1.0</td>\n",
       "      <td>0.0</td>\n",
       "      <td>1.0</td>\n",
       "      <td>0.0</td>\n",
       "      <td>1.0</td>\n",
       "      <td>1.0</td>\n",
       "      <td>1.0</td>\n",
       "      <td>1.0</td>\n",
       "      <td>1.0</td>\n",
       "      <td>1.0</td>\n",
       "      <td>OK</td>\n",
       "    </tr>\n",
       "    <tr>\n",
       "      <th>2</th>\n",
       "      <td>0.0</td>\n",
       "      <td>1.0</td>\n",
       "      <td>1.0</td>\n",
       "      <td>1.0</td>\n",
       "      <td>0.0</td>\n",
       "      <td>1.0</td>\n",
       "      <td>1.0</td>\n",
       "      <td>1.0</td>\n",
       "      <td>1.0</td>\n",
       "      <td>1.0</td>\n",
       "      <td>1.0</td>\n",
       "      <td>OK</td>\n",
       "    </tr>\n",
       "    <tr>\n",
       "      <th>3</th>\n",
       "      <td>0.0</td>\n",
       "      <td>1.0</td>\n",
       "      <td>0.0</td>\n",
       "      <td>1.0</td>\n",
       "      <td>1.0</td>\n",
       "      <td>1.0</td>\n",
       "      <td>1.0</td>\n",
       "      <td>1.0</td>\n",
       "      <td>1.0</td>\n",
       "      <td>1.0</td>\n",
       "      <td>1.0</td>\n",
       "      <td>OK</td>\n",
       "    </tr>\n",
       "    <tr>\n",
       "      <th>4</th>\n",
       "      <td>0.0</td>\n",
       "      <td>1.0</td>\n",
       "      <td>1.0</td>\n",
       "      <td>1.0</td>\n",
       "      <td>1.0</td>\n",
       "      <td>1.0</td>\n",
       "      <td>1.0</td>\n",
       "      <td>1.0</td>\n",
       "      <td>1.0</td>\n",
       "      <td>1.0</td>\n",
       "      <td>1.0</td>\n",
       "      <td>OK</td>\n",
       "    </tr>\n",
       "    <tr>\n",
       "      <th>5</th>\n",
       "      <td>0.0</td>\n",
       "      <td>1.0</td>\n",
       "      <td>0.0</td>\n",
       "      <td>1.0</td>\n",
       "      <td>0.0</td>\n",
       "      <td>1.0</td>\n",
       "      <td>1.0</td>\n",
       "      <td>1.0</td>\n",
       "      <td>1.0</td>\n",
       "      <td>2.0</td>\n",
       "      <td>1.0</td>\n",
       "      <td>OK</td>\n",
       "    </tr>\n",
       "    <tr>\n",
       "      <th>6</th>\n",
       "      <td>0.0</td>\n",
       "      <td>1.0</td>\n",
       "      <td>0.0</td>\n",
       "      <td>1.0</td>\n",
       "      <td>0.0</td>\n",
       "      <td>2.0</td>\n",
       "      <td>1.0</td>\n",
       "      <td>1.0</td>\n",
       "      <td>1.0</td>\n",
       "      <td>2.0</td>\n",
       "      <td>1.0</td>\n",
       "      <td>OK</td>\n",
       "    </tr>\n",
       "    <tr>\n",
       "      <th>7</th>\n",
       "      <td>0.0</td>\n",
       "      <td>1.0</td>\n",
       "      <td>1.0</td>\n",
       "      <td>1.0</td>\n",
       "      <td>0.0</td>\n",
       "      <td>2.0</td>\n",
       "      <td>1.0</td>\n",
       "      <td>1.0</td>\n",
       "      <td>1.0</td>\n",
       "      <td>2.0</td>\n",
       "      <td>1.0</td>\n",
       "      <td>OK</td>\n",
       "    </tr>\n",
       "    <tr>\n",
       "      <th>8</th>\n",
       "      <td>0.0</td>\n",
       "      <td>1.0</td>\n",
       "      <td>0.0</td>\n",
       "      <td>1.0</td>\n",
       "      <td>1.0</td>\n",
       "      <td>2.0</td>\n",
       "      <td>1.0</td>\n",
       "      <td>1.0</td>\n",
       "      <td>1.0</td>\n",
       "      <td>2.0</td>\n",
       "      <td>1.0</td>\n",
       "      <td>OK</td>\n",
       "    </tr>\n",
       "    <tr>\n",
       "      <th>9</th>\n",
       "      <td>0.0</td>\n",
       "      <td>1.0</td>\n",
       "      <td>1.0</td>\n",
       "      <td>1.0</td>\n",
       "      <td>1.0</td>\n",
       "      <td>2.0</td>\n",
       "      <td>1.0</td>\n",
       "      <td>1.0</td>\n",
       "      <td>1.0</td>\n",
       "      <td>2.0</td>\n",
       "      <td>1.0</td>\n",
       "      <td>OK</td>\n",
       "    </tr>\n",
       "    <tr>\n",
       "      <th>10</th>\n",
       "      <td>0.0</td>\n",
       "      <td>1.0</td>\n",
       "      <td>0.0</td>\n",
       "      <td>1.0</td>\n",
       "      <td>0.0</td>\n",
       "      <td>1.0</td>\n",
       "      <td>2.0</td>\n",
       "      <td>1.0</td>\n",
       "      <td>1.0</td>\n",
       "      <td>2.0</td>\n",
       "      <td>1.0</td>\n",
       "      <td>OK</td>\n",
       "    </tr>\n",
       "  </tbody>\n",
       "</table>\n",
       "</div>"
      ],
      "text/plain": [
       "    K_atp  K_atp:nopla:phoxa  K_atp:glyc1:nopla  K_atp:noprola:phoxa  \\\n",
       "1     0.0                1.0                0.0                  1.0   \n",
       "2     0.0                1.0                1.0                  1.0   \n",
       "3     0.0                1.0                0.0                  1.0   \n",
       "4     0.0                1.0                1.0                  1.0   \n",
       "5     0.0                1.0                0.0                  1.0   \n",
       "6     0.0                1.0                0.0                  1.0   \n",
       "7     0.0                1.0                1.0                  1.0   \n",
       "8     0.0                1.0                0.0                  1.0   \n",
       "9     0.0                1.0                1.0                  1.0   \n",
       "10    0.0                1.0                0.0                  1.0   \n",
       "\n",
       "    K_atp:glyc1:noprola  K_atp:glyc1:glyc2:nopla  K_atp:glyc1:nopla:phoxa  \\\n",
       "1                   0.0                      1.0                      1.0   \n",
       "2                   0.0                      1.0                      1.0   \n",
       "3                   1.0                      1.0                      1.0   \n",
       "4                   1.0                      1.0                      1.0   \n",
       "5                   0.0                      1.0                      1.0   \n",
       "6                   0.0                      2.0                      1.0   \n",
       "7                   0.0                      2.0                      1.0   \n",
       "8                   1.0                      2.0                      1.0   \n",
       "9                   1.0                      2.0                      1.0   \n",
       "10                  0.0                      1.0                      2.0   \n",
       "\n",
       "    K_atp:glyc1:glyc2:noprola  K_atp:glyc1:noprola:phoxa  \\\n",
       "1                         1.0                        1.0   \n",
       "2                         1.0                        1.0   \n",
       "3                         1.0                        1.0   \n",
       "4                         1.0                        1.0   \n",
       "5                         1.0                        1.0   \n",
       "6                         1.0                        1.0   \n",
       "7                         1.0                        1.0   \n",
       "8                         1.0                        1.0   \n",
       "9                         1.0                        1.0   \n",
       "10                        1.0                        1.0   \n",
       "\n",
       "    K_atp:glyc1:glyc2:nopla:phoxa  K_atp:glyc1:glyc2:noprola:phoxa valid  \n",
       "1                             1.0                              1.0    OK  \n",
       "2                             1.0                              1.0    OK  \n",
       "3                             1.0                              1.0    OK  \n",
       "4                             1.0                              1.0    OK  \n",
       "5                             2.0                              1.0    OK  \n",
       "6                             2.0                              1.0    OK  \n",
       "7                             2.0                              1.0    OK  \n",
       "8                             2.0                              1.0    OK  \n",
       "9                             2.0                              1.0    OK  \n",
       "10                            2.0                              1.0    OK  "
      ]
     },
     "execution_count": 33,
     "metadata": {},
     "output_type": "execute_result"
    }
   ],
   "source": [
    "labels = bio_cont_3.columns\n",
    "labels = labels[v_i]\n",
    "nv_base = bio_cont_3[labels][:]\n",
    "nv_base.head(10)"
   ]
  },
  {
   "cell_type": "code",
   "execution_count": 34,
   "metadata": {},
   "outputs": [
    {
     "name": "stdout",
     "output_type": "stream",
     "text": [
      "     K_atp  K_atp:nopla:phoxa  K_atp:glyc1:nopla  K_atp:noprola:phoxa  \\\n",
      "min    0.0                1.0                0.0                  1.0   \n",
      "max    0.0                2.0                2.0                  2.0   \n",
      "\n",
      "     K_atp:glyc1:noprola  K_atp:glyc1:glyc2:nopla  K_atp:glyc1:nopla:phoxa  \\\n",
      "min                  0.0                      1.0                      1.0   \n",
      "max                  2.0                      2.0                      2.0   \n",
      "\n",
      "     K_atp:glyc1:glyc2:noprola  K_atp:glyc1:noprola:phoxa  \\\n",
      "min                        1.0                        1.0   \n",
      "max                        2.0                        2.0   \n",
      "\n",
      "     K_atp:glyc1:glyc2:nopla:phoxa  K_atp:glyc1:glyc2:noprola:phoxa valid  \n",
      "min                            1.0                              1.0   NaN  \n",
      "max                            2.0                              2.0   NaN  \n"
     ]
    }
   ],
   "source": [
    "print(nv_base.describe(include='all').loc[['min','max']])"
   ]
  },
  {
   "cell_type": "code",
   "execution_count": 35,
   "metadata": {},
   "outputs": [
    {
     "data": {
      "text/plain": [
       "1      1\n",
       "2      1\n",
       "3      1\n",
       "4      1\n",
       "5      1\n",
       "      ..\n",
       "243    1\n",
       "244    1\n",
       "245    1\n",
       "246    1\n",
       "247    1\n",
       "Name: valid, Length: 247, dtype: int64"
      ]
     },
     "execution_count": 35,
     "metadata": {},
     "output_type": "execute_result"
    }
   ],
   "source": [
    "nv_base = nv_base.drop([labels[0]],axis=1)\n",
    "nv_base.loc[nv_base[\"valid\"]==\"OK\", \"valid\"] = 1\n",
    "nv_base.loc[nv_base[\"valid\"]==\"KO\", \"valid\"] = 0\n",
    "pandas.to_numeric(nv_base[\"valid\"])"
   ]
  },
  {
   "cell_type": "code",
   "execution_count": 36,
   "metadata": {},
   "outputs": [
    {
     "name": "stdout",
     "output_type": "stream",
     "text": [
      "     K_atp:nopla:phoxa  K_atp:glyc1:nopla  K_atp:noprola:phoxa  \\\n",
      "min                1.0                0.0                  1.0   \n",
      "max                2.0                2.0                  2.0   \n",
      "\n",
      "     K_atp:glyc1:noprola  K_atp:glyc1:glyc2:nopla  K_atp:glyc1:nopla:phoxa  \\\n",
      "min                  0.0                      1.0                      1.0   \n",
      "max                  2.0                      2.0                      2.0   \n",
      "\n",
      "     K_atp:glyc1:glyc2:noprola  K_atp:glyc1:noprola:phoxa  \\\n",
      "min                        1.0                        1.0   \n",
      "max                        2.0                        2.0   \n",
      "\n",
      "     K_atp:glyc1:glyc2:nopla:phoxa  K_atp:glyc1:glyc2:noprola:phoxa  valid  \n",
      "min                            1.0                              1.0    NaN  \n",
      "max                            2.0                              2.0    NaN  \n"
     ]
    }
   ],
   "source": [
    "print(nv_base.describe(include='all').loc[['min','max']])"
   ]
  },
  {
   "cell_type": "code",
   "execution_count": 38,
   "metadata": {},
   "outputs": [],
   "source": [
    "from scipy.cluster.hierarchy import dendrogram, linkage"
   ]
  },
  {
   "cell_type": "code",
   "execution_count": 69,
   "metadata": {},
   "outputs": [],
   "source": [
    "Z = linkage(nv_base,method='average',metric='jaccard')"
   ]
  },
  {
   "cell_type": "code",
   "execution_count": 76,
   "metadata": {},
   "outputs": [
    {
     "data": {
      "image/png": "[encoded data removed]",
      "text/plain": [
       "<Figure size 1800x1800 with 1 Axes>"
      ]
     },
     "metadata": {
      "needs_background": "light"
     },
     "output_type": "display_data"
    }
   ],
   "source": [
    "fig = plt.figure(1, figsize=(25, 25))\n",
    "plt.title(\"CAH\")\n",
    "dendrogram(Z)\n",
    "plt.axhline(y=0.4)\n",
    "plt.show()"
   ]
  },
  {
   "cell_type": "markdown",
   "metadata": {},
   "source": [
    "D'après ce que j'ai compris pour l'instant on trouve le nombre de cluster optimal est trouveé en fonction de la distance qu'on souhaite entre 1 point et son plus proche voisin, dans notre cas si on prend la distance maximale = 0.4\n",
    "On trace une droite verticale au niveau de 0.4 et on compte le nombre de branches qu'on intercepte.\n",
    "Ici on trouve 4 clusters pour une distance maximale de 0.4\n",
    "On le visualise dans l'autre sens pour mieux voir."
   ]
  },
  {
   "cell_type": "code",
   "execution_count": 77,
   "metadata": {},
   "outputs": [
    {
     "data": {
      "image/png": "[encoded data removed]",
      "text/plain": [
       "<Figure size 1080x1800 with 1 Axes>"
      ]
     },
     "metadata": {
      "needs_background": "light"
     },
     "output_type": "display_data"
    }
   ],
   "source": [
    "fig = plt.figure(1, figsize=(15, 25))\n",
    "plt.title(\"CAH\")\n",
    "dendrogram(Z,orientation='left')\n",
    "plt.axhline(y=0.4)\n",
    "plt.show()"
   ]
  },
  {
   "cell_type": "markdown",
   "metadata": {},
   "source": [
    "Pour l'instant on ne sait pas trop combien il faut de cluster.\n",
    "Prenons arbitrairement 2."
   ]
  },
  {
   "cell_type": "code",
   "execution_count": 78,
   "metadata": {},
   "outputs": [],
   "source": [
    "k = 2"
   ]
  },
  {
   "cell_type": "code",
   "execution_count": 80,
   "metadata": {},
   "outputs": [],
   "source": [
    "from scipy.cluster.hierarchy import fcluster, cophenet\n",
    "from sklearn.cluster import AgglomerativeClustering\n",
    "import sklearn.metrics as sm"
   ]
  },
  {
   "cell_type": "code",
   "execution_count": 82,
   "metadata": {},
   "outputs": [],
   "source": [
    "Hc = AgglomerativeClustering(n_clusters=k, affinity='jaccard', linkage='average')"
   ]
  },
  {
   "cell_type": "code",
   "execution_count": 85,
   "metadata": {},
   "outputs": [
    {
     "data": {
      "text/plain": [
       "AgglomerativeClustering(affinity='jaccard', linkage='average')"
      ]
     },
     "execution_count": 85,
     "metadata": {},
     "output_type": "execute_result"
    }
   ],
   "source": [
    "Hc.fit(nv_base)"
   ]
  },
  {
   "cell_type": "code",
   "execution_count": 89,
   "metadata": {},
   "outputs": [
    {
     "name": "stdout",
     "output_type": "stream",
     "text": [
      "(array([  0,   1,   2,   3,   4,   5,   6,   7,   8,   9,  10,  11,  12,\n",
      "        13,  14,  15,  16,  17,  18,  19,  20,  21,  22,  23,  24,  25,\n",
      "        26,  27,  28,  29,  54,  55,  56,  57,  58,  59,  60,  61,  62,\n",
      "        63,  64,  65,  66,  67,  68,  69,  70,  71,  72,  73,  74,  75,\n",
      "        76,  77,  78,  83,  84,  85,  86,  87,  88,  89,  90,  91,  92,\n",
      "        93,  94,  95,  96,  97,  98,  99, 100, 101, 102, 103, 104, 105,\n",
      "       106]),)\n",
      "(array([ 30,  31,  32,  33,  34,  35,  36,  37,  38,  39,  40,  41,  42,\n",
      "        43,  44,  45,  46,  47,  48,  49,  50,  51,  52,  53,  79,  80,\n",
      "        81,  82, 107, 108, 109, 110, 111, 112, 113, 114, 115, 116, 117,\n",
      "       118, 119, 120, 121, 122, 123, 124, 125, 126, 127, 128, 129, 130,\n",
      "       131, 132, 133, 134, 135, 136, 137, 138, 139, 140, 141, 142, 143,\n",
      "       144, 145, 146, 147, 148, 149, 150, 151, 152, 153, 154, 155, 156,\n",
      "       157, 158, 159, 160, 161, 162, 163, 164, 165, 166, 167, 168, 169,\n",
      "       170, 171, 172, 173, 174, 175, 176, 177, 178, 179, 180, 181, 182,\n",
      "       183, 184, 185, 186, 187, 188, 189, 190, 191, 192, 193, 194, 195,\n",
      "       196, 197, 198, 199, 200, 201, 202, 203, 204, 205, 206, 207, 208,\n",
      "       209, 210, 211, 212, 213, 214, 215, 216, 217, 218, 219, 220, 221,\n",
      "       222, 223, 224, 225, 226, 227, 228, 229, 230, 231, 232, 233, 234,\n",
      "       235, 236, 237, 238, 239, 240, 241, 242, 243, 244, 245, 246]),)\n"
     ]
    }
   ],
   "source": [
    "l = Hc.labels_\n",
    "ind0 = np.where(l==0)\n",
    "ind1 = np.where(l==1)\n",
    "print(ind0)\n",
    "print(ind1)"
   ]
  },
  {
   "cell_type": "code",
   "execution_count": null,
   "metadata": {},
   "outputs": [],
   "source": []
  }
 ],
 "metadata": {
  "kernelspec": {
   "display_name": "Python 3",
   "language": "python",
   "name": "python3"
  },
  "language_info": {
   "codemirror_mode": {
    "name": "ipython",
    "version": 3
   },
   "file_extension": ".py",
   "mimetype": "text/x-python",
   "name": "python",
   "nbconvert_exporter": "python",
   "pygments_lexer": "ipython3",
   "version": "3.8.3"
  }
 },
 "nbformat": 4,
 "nbformat_minor": 4
}
