{
 "cells": [
  {
   "cell_type": "markdown",
   "metadata": {},
   "source": [
    "On va regarder chaque fichier le nombre de colonnes etc.."
   ]
  },
  {
   "cell_type": "code",
   "execution_count": 4,
   "metadata": {},
   "outputs": [],
   "source": [
    "import numpy as np\n",
    "import pandas\n",
    "from sklearn import datasets\n",
    "import matplotlib.pyplot as plt\n",
    "from mpl_toolkits.mplot3d import Axes3D\n",
    "from sklearn.cluster import KMeans\n",
    "import networkx as nx"
   ]
  },
  {
   "cell_type": "code",
   "execution_count": 51,
   "metadata": {},
   "outputs": [
    {
     "name": "stdout",
     "output_type": "stream",
     "text": [
      "(6481, 81)\n"
     ]
    }
   ],
   "source": [
    "bio_cont_1 = pandas.read_csv('MAM4-exemples/bio_cont_1.csv')\n",
    "print(bio_cont_1.shape)"
   ]
  },
  {
   "cell_type": "code",
   "execution_count": 52,
   "metadata": {},
   "outputs": [
    {
     "data": {
      "text/html": [
       "<div>\n",
       "<style scoped>\n",
       "    .dataframe tbody tr th:only-of-type {\n",
       "        vertical-align: middle;\n",
       "    }\n",
       "\n",
       "    .dataframe tbody tr th {\n",
       "        vertical-align: top;\n",
       "    }\n",
       "\n",
       "    .dataframe thead th {\n",
       "        text-align: right;\n",
       "    }\n",
       "</style>\n",
       "<table border=\"1\" class=\"dataframe\">\n",
       "  <thead>\n",
       "    <tr style=\"text-align: right;\">\n",
       "      <th></th>\n",
       "      <th>valid</th>\n",
       "      <th>K_atp</th>\n",
       "      <th>K_atp:glyc1</th>\n",
       "      <th>K_atp:nopla</th>\n",
       "      <th>K_atp:noprola</th>\n",
       "      <th>K_atp:phoxa</th>\n",
       "      <th>K_atp:glyc1:phoxa</th>\n",
       "      <th>K_atp:glyc1:glyc2</th>\n",
       "      <th>K_atp:nopla:noprola</th>\n",
       "      <th>K_atp:nopla:phoxa</th>\n",
       "      <th>...</th>\n",
       "      <th>K_nadh:gpdh:krebsn:noaas:phoxn</th>\n",
       "      <th>K_nadh:fermn:krebsn:noaas:phoxn</th>\n",
       "      <th>K_nadh:fermn:gpdh:krebsn:noaas:phoxn</th>\n",
       "      <th>K_krebs</th>\n",
       "      <th>K_krebs:box</th>\n",
       "      <th>K_krebs:pnh</th>\n",
       "      <th>K_krebs:pnh:sat</th>\n",
       "      <th>K_phox</th>\n",
       "      <th>K_phox:pc</th>\n",
       "      <th>Error explanation</th>\n",
       "    </tr>\n",
       "  </thead>\n",
       "  <tbody>\n",
       "    <tr>\n",
       "      <th>0</th>\n",
       "      <td>NaN</td>\n",
       "      <td>0.0</td>\n",
       "      <td>0.0</td>\n",
       "      <td>0.0</td>\n",
       "      <td>0.0</td>\n",
       "      <td>1.1</td>\n",
       "      <td>1.1</td>\n",
       "      <td>1.1</td>\n",
       "      <td>0.0</td>\n",
       "      <td>1.2</td>\n",
       "      <td>...</td>\n",
       "      <td>1.1</td>\n",
       "      <td>1.1</td>\n",
       "      <td>1.1</td>\n",
       "      <td>0.2</td>\n",
       "      <td>0.2</td>\n",
       "      <td>0.2</td>\n",
       "      <td>0.2</td>\n",
       "      <td>0.0</td>\n",
       "      <td>1.1</td>\n",
       "      <td>NaN</td>\n",
       "    </tr>\n",
       "    <tr>\n",
       "      <th>1</th>\n",
       "      <td>OK</td>\n",
       "      <td>0.0</td>\n",
       "      <td>0.0</td>\n",
       "      <td>0.0</td>\n",
       "      <td>0.0</td>\n",
       "      <td>1.0</td>\n",
       "      <td>1.0</td>\n",
       "      <td>1.0</td>\n",
       "      <td>0.0</td>\n",
       "      <td>1.0</td>\n",
       "      <td>...</td>\n",
       "      <td>1.0</td>\n",
       "      <td>1.0</td>\n",
       "      <td>1.0</td>\n",
       "      <td>0.0</td>\n",
       "      <td>0.0</td>\n",
       "      <td>0.0</td>\n",
       "      <td>0.0</td>\n",
       "      <td>0.0</td>\n",
       "      <td>1.0</td>\n",
       "      <td>NaN</td>\n",
       "    </tr>\n",
       "    <tr>\n",
       "      <th>2</th>\n",
       "      <td>OK</td>\n",
       "      <td>0.0</td>\n",
       "      <td>0.0</td>\n",
       "      <td>0.0</td>\n",
       "      <td>0.0</td>\n",
       "      <td>1.0</td>\n",
       "      <td>1.0</td>\n",
       "      <td>1.0</td>\n",
       "      <td>0.0</td>\n",
       "      <td>1.0</td>\n",
       "      <td>...</td>\n",
       "      <td>1.0</td>\n",
       "      <td>1.0</td>\n",
       "      <td>1.0</td>\n",
       "      <td>0.0</td>\n",
       "      <td>0.0</td>\n",
       "      <td>0.0</td>\n",
       "      <td>0.0</td>\n",
       "      <td>0.0</td>\n",
       "      <td>1.0</td>\n",
       "      <td>NaN</td>\n",
       "    </tr>\n",
       "    <tr>\n",
       "      <th>3</th>\n",
       "      <td>OK</td>\n",
       "      <td>0.0</td>\n",
       "      <td>0.0</td>\n",
       "      <td>0.0</td>\n",
       "      <td>0.0</td>\n",
       "      <td>1.0</td>\n",
       "      <td>1.0</td>\n",
       "      <td>1.0</td>\n",
       "      <td>0.0</td>\n",
       "      <td>1.0</td>\n",
       "      <td>...</td>\n",
       "      <td>1.0</td>\n",
       "      <td>1.0</td>\n",
       "      <td>1.0</td>\n",
       "      <td>0.0</td>\n",
       "      <td>0.0</td>\n",
       "      <td>0.0</td>\n",
       "      <td>0.0</td>\n",
       "      <td>0.0</td>\n",
       "      <td>1.0</td>\n",
       "      <td>NaN</td>\n",
       "    </tr>\n",
       "    <tr>\n",
       "      <th>4</th>\n",
       "      <td>OK</td>\n",
       "      <td>0.0</td>\n",
       "      <td>0.0</td>\n",
       "      <td>0.0</td>\n",
       "      <td>0.0</td>\n",
       "      <td>1.0</td>\n",
       "      <td>1.0</td>\n",
       "      <td>1.0</td>\n",
       "      <td>0.0</td>\n",
       "      <td>1.0</td>\n",
       "      <td>...</td>\n",
       "      <td>1.0</td>\n",
       "      <td>1.0</td>\n",
       "      <td>1.0</td>\n",
       "      <td>0.0</td>\n",
       "      <td>0.0</td>\n",
       "      <td>0.0</td>\n",
       "      <td>0.0</td>\n",
       "      <td>0.0</td>\n",
       "      <td>1.0</td>\n",
       "      <td>NaN</td>\n",
       "    </tr>\n",
       "  </tbody>\n",
       "</table>\n",
       "<p>5 rows × 81 columns</p>\n",
       "</div>"
      ],
      "text/plain": [
       "  valid  K_atp  K_atp:glyc1  K_atp:nopla  K_atp:noprola  K_atp:phoxa  \\\n",
       "0   NaN    0.0          0.0          0.0            0.0          1.1   \n",
       "1    OK    0.0          0.0          0.0            0.0          1.0   \n",
       "2    OK    0.0          0.0          0.0            0.0          1.0   \n",
       "3    OK    0.0          0.0          0.0            0.0          1.0   \n",
       "4    OK    0.0          0.0          0.0            0.0          1.0   \n",
       "\n",
       "   K_atp:glyc1:phoxa  K_atp:glyc1:glyc2  K_atp:nopla:noprola  \\\n",
       "0                1.1                1.1                  0.0   \n",
       "1                1.0                1.0                  0.0   \n",
       "2                1.0                1.0                  0.0   \n",
       "3                1.0                1.0                  0.0   \n",
       "4                1.0                1.0                  0.0   \n",
       "\n",
       "   K_atp:nopla:phoxa  ...  K_nadh:gpdh:krebsn:noaas:phoxn  \\\n",
       "0                1.2  ...                             1.1   \n",
       "1                1.0  ...                             1.0   \n",
       "2                1.0  ...                             1.0   \n",
       "3                1.0  ...                             1.0   \n",
       "4                1.0  ...                             1.0   \n",
       "\n",
       "   K_nadh:fermn:krebsn:noaas:phoxn  K_nadh:fermn:gpdh:krebsn:noaas:phoxn  \\\n",
       "0                              1.1                                   1.1   \n",
       "1                              1.0                                   1.0   \n",
       "2                              1.0                                   1.0   \n",
       "3                              1.0                                   1.0   \n",
       "4                              1.0                                   1.0   \n",
       "\n",
       "   K_krebs  K_krebs:box  K_krebs:pnh  K_krebs:pnh:sat  K_phox  K_phox:pc  \\\n",
       "0      0.2          0.2          0.2              0.2     0.0        1.1   \n",
       "1      0.0          0.0          0.0              0.0     0.0        1.0   \n",
       "2      0.0          0.0          0.0              0.0     0.0        1.0   \n",
       "3      0.0          0.0          0.0              0.0     0.0        1.0   \n",
       "4      0.0          0.0          0.0              0.0     0.0        1.0   \n",
       "\n",
       "   Error explanation  \n",
       "0                NaN  \n",
       "1                NaN  \n",
       "2                NaN  \n",
       "3                NaN  \n",
       "4                NaN  \n",
       "\n",
       "[5 rows x 81 columns]"
      ]
     },
     "execution_count": 52,
     "metadata": {},
     "output_type": "execute_result"
    }
   ],
   "source": [
    "bio_cont_1.head(5)"
   ]
  },
  {
   "cell_type": "code",
   "execution_count": 53,
   "metadata": {},
   "outputs": [
    {
     "name": "stdout",
     "output_type": "stream",
     "text": [
      "[[nan 0.0 0.0 0.0 0.0 1.1 1.1 1.1 0.0 1.2 0.2 1.1 0.0 1.2 2.2 2.2 1.2 1.1\n",
      "  1.1 1.1 2.2 1.2 2.2 2.2 2.2 1.1 1.1 0.0 0.2 0.0 0.2 0.0 1.1 1.1 1.1 0.1\n",
      "  0.1 0.1 2.2 2.2 0.0 1.1 0.0 0.0 0.0 0.0 0.0 0.0 0.0 0.0 0.0 0.0 0.0 0.0\n",
      "  1.1 0.0 0.0 0.0 1.1 0.0 0.0 0.0 1.1 1.1 1.1 0.0 0.0 1.1 1.1 1.1 1.1 1.1\n",
      "  1.1 1.1 0.2 0.2 0.2 0.2 0.0 1.1 nan]]\n"
     ]
    }
   ],
   "source": [
    "valeurs_possibles = bio_cont_1[:][0:1].values\n",
    "print(valeurs_possibles)"
   ]
  },
  {
   "cell_type": "code",
   "execution_count": 54,
   "metadata": {},
   "outputs": [],
   "source": [
    "bio_cont_1 = bio_cont_1.drop([0],axis=0)"
   ]
  },
  {
   "cell_type": "code",
   "execution_count": 55,
   "metadata": {},
   "outputs": [
    {
     "name": "stdout",
     "output_type": "stream",
     "text": [
      "(6480, 81)\n"
     ]
    }
   ],
   "source": [
    "print(bio_cont_1.shape)"
   ]
  },
  {
   "cell_type": "code",
   "execution_count": 57,
   "metadata": {},
   "outputs": [
    {
     "name": "stdout",
     "output_type": "stream",
     "text": [
      "(1, 81)\n"
     ]
    }
   ],
   "source": [
    "valeurs_possibles[0,0] = 0.0\n",
    "valeurs_possibles[0,80] = 0.0\n",
    "print(np.shape(valeurs_possibles))"
   ]
  },
  {
   "cell_type": "code",
   "execution_count": 84,
   "metadata": {},
   "outputs": [],
   "source": [
    "def recup_col_importante(vect_val):\n",
    "    m,n = np.shape(vect_val)\n",
    "    val_import = []\n",
    "    for i in range(n):\n",
    "        a =vect_val[0,i]\n",
    "        entier = int(a)\n",
    "        decim = int(round(a%1,2)*10)\n",
    "        if(entier != decim):\n",
    "            val_import.append(i)\n",
    "    return val_import    "
   ]
  },
  {
   "cell_type": "code",
   "execution_count": 105,
   "metadata": {},
   "outputs": [],
   "source": [
    "v_i = recup_col_importante(valeurs_possibles)"
   ]
  },
  {
   "cell_type": "code",
   "execution_count": 106,
   "metadata": {},
   "outputs": [
    {
     "name": "stdout",
     "output_type": "stream",
     "text": [
      "[9, 10, 13, 16, 21, 28, 30, 35, 36, 37, 74, 75, 76, 77]\n",
      "(15,)\n"
     ]
    }
   ],
   "source": [
    "print(v_i)\n",
    "v_i.append(0)\n",
    "print(np.shape(v_i))"
   ]
  },
  {
   "cell_type": "markdown",
   "metadata": {},
   "source": [
    "On va construire la nouvelle base avec les paramètres qui contiennent des valeurs différentes, ainsi que la colonne valid"
   ]
  },
  {
   "cell_type": "code",
   "execution_count": 107,
   "metadata": {},
   "outputs": [
    {
     "name": "stdout",
     "output_type": "stream",
     "text": [
      "Index(['K_atp:nopla:phoxa', 'K_atp:glyc1:nopla', 'K_atp:glyc1:glyc2:nopla',\n",
      "       'K_atp:glyc1:nopla:phoxa', 'K_atp:glyc1:glyc2:nopla:phoxa',\n",
      "       'K_glyc:cof:glc1:glc2', 'K_glyc:cof:glc1:glc2:nopfk', 'K_plc',\n",
      "       'K_plc:nobox', 'K_plc:ls:nobox', 'K_krebs', 'K_krebs:box',\n",
      "       'K_krebs:pnh', 'K_krebs:pnh:sat', 'valid'],\n",
      "      dtype='object')\n"
     ]
    },
    {
     "data": {
      "text/html": [
       "<div>\n",
       "<style scoped>\n",
       "    .dataframe tbody tr th:only-of-type {\n",
       "        vertical-align: middle;\n",
       "    }\n",
       "\n",
       "    .dataframe tbody tr th {\n",
       "        vertical-align: top;\n",
       "    }\n",
       "\n",
       "    .dataframe thead th {\n",
       "        text-align: right;\n",
       "    }\n",
       "</style>\n",
       "<table border=\"1\" class=\"dataframe\">\n",
       "  <thead>\n",
       "    <tr style=\"text-align: right;\">\n",
       "      <th></th>\n",
       "      <th>K_atp:nopla:phoxa</th>\n",
       "      <th>K_atp:glyc1:nopla</th>\n",
       "      <th>K_atp:glyc1:glyc2:nopla</th>\n",
       "      <th>K_atp:glyc1:nopla:phoxa</th>\n",
       "      <th>K_atp:glyc1:glyc2:nopla:phoxa</th>\n",
       "      <th>K_glyc:cof:glc1:glc2</th>\n",
       "      <th>K_glyc:cof:glc1:glc2:nopfk</th>\n",
       "      <th>K_plc</th>\n",
       "      <th>K_plc:nobox</th>\n",
       "      <th>K_plc:ls:nobox</th>\n",
       "      <th>K_krebs</th>\n",
       "      <th>K_krebs:box</th>\n",
       "      <th>K_krebs:pnh</th>\n",
       "      <th>K_krebs:pnh:sat</th>\n",
       "      <th>valid</th>\n",
       "    </tr>\n",
       "  </thead>\n",
       "  <tbody>\n",
       "    <tr>\n",
       "      <th>1</th>\n",
       "      <td>1.0</td>\n",
       "      <td>0.0</td>\n",
       "      <td>1.0</td>\n",
       "      <td>1.0</td>\n",
       "      <td>1.0</td>\n",
       "      <td>0.0</td>\n",
       "      <td>1.0</td>\n",
       "      <td>0.0</td>\n",
       "      <td>0.0</td>\n",
       "      <td>0.0</td>\n",
       "      <td>0.0</td>\n",
       "      <td>0.0</td>\n",
       "      <td>0.0</td>\n",
       "      <td>0.0</td>\n",
       "      <td>OK</td>\n",
       "    </tr>\n",
       "    <tr>\n",
       "      <th>2</th>\n",
       "      <td>1.0</td>\n",
       "      <td>1.0</td>\n",
       "      <td>1.0</td>\n",
       "      <td>1.0</td>\n",
       "      <td>1.0</td>\n",
       "      <td>0.0</td>\n",
       "      <td>1.0</td>\n",
       "      <td>0.0</td>\n",
       "      <td>0.0</td>\n",
       "      <td>0.0</td>\n",
       "      <td>0.0</td>\n",
       "      <td>0.0</td>\n",
       "      <td>0.0</td>\n",
       "      <td>0.0</td>\n",
       "      <td>OK</td>\n",
       "    </tr>\n",
       "    <tr>\n",
       "      <th>3</th>\n",
       "      <td>1.0</td>\n",
       "      <td>0.0</td>\n",
       "      <td>1.0</td>\n",
       "      <td>1.0</td>\n",
       "      <td>2.0</td>\n",
       "      <td>0.0</td>\n",
       "      <td>1.0</td>\n",
       "      <td>0.0</td>\n",
       "      <td>0.0</td>\n",
       "      <td>0.0</td>\n",
       "      <td>0.0</td>\n",
       "      <td>0.0</td>\n",
       "      <td>0.0</td>\n",
       "      <td>0.0</td>\n",
       "      <td>OK</td>\n",
       "    </tr>\n",
       "    <tr>\n",
       "      <th>4</th>\n",
       "      <td>1.0</td>\n",
       "      <td>0.0</td>\n",
       "      <td>2.0</td>\n",
       "      <td>1.0</td>\n",
       "      <td>2.0</td>\n",
       "      <td>0.0</td>\n",
       "      <td>1.0</td>\n",
       "      <td>0.0</td>\n",
       "      <td>0.0</td>\n",
       "      <td>0.0</td>\n",
       "      <td>0.0</td>\n",
       "      <td>0.0</td>\n",
       "      <td>0.0</td>\n",
       "      <td>0.0</td>\n",
       "      <td>OK</td>\n",
       "    </tr>\n",
       "    <tr>\n",
       "      <th>5</th>\n",
       "      <td>1.0</td>\n",
       "      <td>1.0</td>\n",
       "      <td>2.0</td>\n",
       "      <td>1.0</td>\n",
       "      <td>2.0</td>\n",
       "      <td>0.0</td>\n",
       "      <td>1.0</td>\n",
       "      <td>0.0</td>\n",
       "      <td>0.0</td>\n",
       "      <td>0.0</td>\n",
       "      <td>0.0</td>\n",
       "      <td>0.0</td>\n",
       "      <td>0.0</td>\n",
       "      <td>0.0</td>\n",
       "      <td>OK</td>\n",
       "    </tr>\n",
       "  </tbody>\n",
       "</table>\n",
       "</div>"
      ],
      "text/plain": [
       "   K_atp:nopla:phoxa  K_atp:glyc1:nopla  K_atp:glyc1:glyc2:nopla  \\\n",
       "1                1.0                0.0                      1.0   \n",
       "2                1.0                1.0                      1.0   \n",
       "3                1.0                0.0                      1.0   \n",
       "4                1.0                0.0                      2.0   \n",
       "5                1.0                1.0                      2.0   \n",
       "\n",
       "   K_atp:glyc1:nopla:phoxa  K_atp:glyc1:glyc2:nopla:phoxa  \\\n",
       "1                      1.0                            1.0   \n",
       "2                      1.0                            1.0   \n",
       "3                      1.0                            2.0   \n",
       "4                      1.0                            2.0   \n",
       "5                      1.0                            2.0   \n",
       "\n",
       "   K_glyc:cof:glc1:glc2  K_glyc:cof:glc1:glc2:nopfk  K_plc  K_plc:nobox  \\\n",
       "1                   0.0                         1.0    0.0          0.0   \n",
       "2                   0.0                         1.0    0.0          0.0   \n",
       "3                   0.0                         1.0    0.0          0.0   \n",
       "4                   0.0                         1.0    0.0          0.0   \n",
       "5                   0.0                         1.0    0.0          0.0   \n",
       "\n",
       "   K_plc:ls:nobox  K_krebs  K_krebs:box  K_krebs:pnh  K_krebs:pnh:sat valid  \n",
       "1             0.0      0.0          0.0          0.0              0.0    OK  \n",
       "2             0.0      0.0          0.0          0.0              0.0    OK  \n",
       "3             0.0      0.0          0.0          0.0              0.0    OK  \n",
       "4             0.0      0.0          0.0          0.0              0.0    OK  \n",
       "5             0.0      0.0          0.0          0.0              0.0    OK  "
      ]
     },
     "execution_count": 107,
     "metadata": {},
     "output_type": "execute_result"
    }
   ],
   "source": [
    "labels = bio_cont_1.columns\n",
    "labels = labels[v_i]\n",
    "print(labels)\n",
    "nv_base = bio_cont_1[labels][:]\n",
    "nv_base.head(5)"
   ]
  },
  {
   "cell_type": "code",
   "execution_count": 108,
   "metadata": {},
   "outputs": [
    {
     "name": "stdout",
     "output_type": "stream",
     "text": [
      "(6480, 15)\n"
     ]
    }
   ],
   "source": [
    "print(nv_base.shape)"
   ]
  },
  {
   "cell_type": "markdown",
   "metadata": {},
   "source": [
    "Il faut construire une matrice qui contient les chemins possibles.\n",
    "C'est une matrice carrée.\n"
   ]
  }
 ],
 "metadata": {
  "kernelspec": {
   "display_name": "Python 3",
   "language": "python",
   "name": "python3"
  },
  "language_info": {
   "codemirror_mode": {
    "name": "ipython",
    "version": 3
   },
   "file_extension": ".py",
   "mimetype": "text/x-python",
   "name": "python",
   "nbconvert_exporter": "python",
   "pygments_lexer": "ipython3",
   "version": "3.8.3"
  }
 },
 "nbformat": 4,
 "nbformat_minor": 4
}
