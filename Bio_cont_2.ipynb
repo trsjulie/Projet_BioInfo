{
 "cells": [
  {
   "cell_type": "code",
   "execution_count": 59,
   "metadata": {},
   "outputs": [],
   "source": [
    "import numpy as np\n",
    "import pandas\n",
    "from sklearn import datasets\n",
    "import matplotlib.pyplot as plt\n",
    "from mpl_toolkits.mplot3d import Axes3D\n",
    "from sklearn.cluster import KMeans\n",
    "import networkx as nx"
   ]
  },
  {
   "cell_type": "code",
   "execution_count": 62,
   "metadata": {},
   "outputs": [
    {
     "name": "stdout",
     "output_type": "stream",
     "text": [
      "(301, 81)\n"
     ]
    }
   ],
   "source": [
    "bio_cont_2 = pandas.read_csv('MAM4-exemples/bio_cont_2.csv')\n",
    "print(bio_cont_2.shape)"
   ]
  },
  {
   "cell_type": "code",
   "execution_count": 63,
   "metadata": {},
   "outputs": [
    {
     "data": {
      "text/html": [
       "<div>\n",
       "<style scoped>\n",
       "    .dataframe tbody tr th:only-of-type {\n",
       "        vertical-align: middle;\n",
       "    }\n",
       "\n",
       "    .dataframe tbody tr th {\n",
       "        vertical-align: top;\n",
       "    }\n",
       "\n",
       "    .dataframe thead th {\n",
       "        text-align: right;\n",
       "    }\n",
       "</style>\n",
       "<table border=\"1\" class=\"dataframe\">\n",
       "  <thead>\n",
       "    <tr style=\"text-align: right;\">\n",
       "      <th></th>\n",
       "      <th>valid</th>\n",
       "      <th>K_atp</th>\n",
       "      <th>K_atp:glyc1</th>\n",
       "      <th>K_atp:nopla</th>\n",
       "      <th>K_atp:noprola</th>\n",
       "      <th>K_atp:phoxa</th>\n",
       "      <th>K_atp:glyc1:phoxa</th>\n",
       "      <th>K_atp:glyc1:glyc2</th>\n",
       "      <th>K_atp:nopla:noprola</th>\n",
       "      <th>K_atp:nopla:phoxa</th>\n",
       "      <th>...</th>\n",
       "      <th>K_nadh:gpdh:krebsn:noaas:phoxn</th>\n",
       "      <th>K_nadh:fermn:krebsn:noaas:phoxn</th>\n",
       "      <th>K_nadh:fermn:gpdh:krebsn:noaas:phoxn</th>\n",
       "      <th>K_krebs</th>\n",
       "      <th>K_krebs:box</th>\n",
       "      <th>K_krebs:pnh</th>\n",
       "      <th>K_krebs:pnh:sat</th>\n",
       "      <th>K_phox</th>\n",
       "      <th>K_phox:pc</th>\n",
       "      <th>Error explanation</th>\n",
       "    </tr>\n",
       "  </thead>\n",
       "  <tbody>\n",
       "    <tr>\n",
       "      <th>0</th>\n",
       "      <td>NaN</td>\n",
       "      <td>0.0</td>\n",
       "      <td>0.0</td>\n",
       "      <td>0.0</td>\n",
       "      <td>0.0</td>\n",
       "      <td>1.1</td>\n",
       "      <td>1.1</td>\n",
       "      <td>1.1</td>\n",
       "      <td>0.0</td>\n",
       "      <td>1.2</td>\n",
       "      <td>...</td>\n",
       "      <td>1.1</td>\n",
       "      <td>1.1</td>\n",
       "      <td>1.1</td>\n",
       "      <td>0.0</td>\n",
       "      <td>0.0</td>\n",
       "      <td>1.1</td>\n",
       "      <td>2.2</td>\n",
       "      <td>0.0</td>\n",
       "      <td>1.1</td>\n",
       "      <td>NaN</td>\n",
       "    </tr>\n",
       "    <tr>\n",
       "      <th>1</th>\n",
       "      <td>OK</td>\n",
       "      <td>0.0</td>\n",
       "      <td>0.0</td>\n",
       "      <td>0.0</td>\n",
       "      <td>0.0</td>\n",
       "      <td>1.0</td>\n",
       "      <td>1.0</td>\n",
       "      <td>1.0</td>\n",
       "      <td>0.0</td>\n",
       "      <td>1.0</td>\n",
       "      <td>...</td>\n",
       "      <td>1.0</td>\n",
       "      <td>1.0</td>\n",
       "      <td>1.0</td>\n",
       "      <td>0.0</td>\n",
       "      <td>0.0</td>\n",
       "      <td>1.0</td>\n",
       "      <td>2.0</td>\n",
       "      <td>0.0</td>\n",
       "      <td>1.0</td>\n",
       "      <td>NaN</td>\n",
       "    </tr>\n",
       "    <tr>\n",
       "      <th>2</th>\n",
       "      <td>OK</td>\n",
       "      <td>0.0</td>\n",
       "      <td>0.0</td>\n",
       "      <td>0.0</td>\n",
       "      <td>0.0</td>\n",
       "      <td>1.0</td>\n",
       "      <td>1.0</td>\n",
       "      <td>1.0</td>\n",
       "      <td>0.0</td>\n",
       "      <td>1.0</td>\n",
       "      <td>...</td>\n",
       "      <td>1.0</td>\n",
       "      <td>1.0</td>\n",
       "      <td>1.0</td>\n",
       "      <td>0.0</td>\n",
       "      <td>0.0</td>\n",
       "      <td>1.0</td>\n",
       "      <td>2.0</td>\n",
       "      <td>0.0</td>\n",
       "      <td>1.0</td>\n",
       "      <td>NaN</td>\n",
       "    </tr>\n",
       "    <tr>\n",
       "      <th>3</th>\n",
       "      <td>OK</td>\n",
       "      <td>0.0</td>\n",
       "      <td>0.0</td>\n",
       "      <td>0.0</td>\n",
       "      <td>0.0</td>\n",
       "      <td>1.0</td>\n",
       "      <td>1.0</td>\n",
       "      <td>1.0</td>\n",
       "      <td>0.0</td>\n",
       "      <td>1.0</td>\n",
       "      <td>...</td>\n",
       "      <td>1.0</td>\n",
       "      <td>1.0</td>\n",
       "      <td>1.0</td>\n",
       "      <td>0.0</td>\n",
       "      <td>0.0</td>\n",
       "      <td>1.0</td>\n",
       "      <td>2.0</td>\n",
       "      <td>0.0</td>\n",
       "      <td>1.0</td>\n",
       "      <td>NaN</td>\n",
       "    </tr>\n",
       "    <tr>\n",
       "      <th>4</th>\n",
       "      <td>OK</td>\n",
       "      <td>0.0</td>\n",
       "      <td>0.0</td>\n",
       "      <td>0.0</td>\n",
       "      <td>0.0</td>\n",
       "      <td>1.0</td>\n",
       "      <td>1.0</td>\n",
       "      <td>1.0</td>\n",
       "      <td>0.0</td>\n",
       "      <td>1.0</td>\n",
       "      <td>...</td>\n",
       "      <td>1.0</td>\n",
       "      <td>1.0</td>\n",
       "      <td>1.0</td>\n",
       "      <td>0.0</td>\n",
       "      <td>0.0</td>\n",
       "      <td>1.0</td>\n",
       "      <td>2.0</td>\n",
       "      <td>0.0</td>\n",
       "      <td>1.0</td>\n",
       "      <td>NaN</td>\n",
       "    </tr>\n",
       "  </tbody>\n",
       "</table>\n",
       "<p>5 rows × 81 columns</p>\n",
       "</div>"
      ],
      "text/plain": [
       "  valid  K_atp  K_atp:glyc1  K_atp:nopla  K_atp:noprola  K_atp:phoxa  \\\n",
       "0   NaN    0.0          0.0          0.0            0.0          1.1   \n",
       "1    OK    0.0          0.0          0.0            0.0          1.0   \n",
       "2    OK    0.0          0.0          0.0            0.0          1.0   \n",
       "3    OK    0.0          0.0          0.0            0.0          1.0   \n",
       "4    OK    0.0          0.0          0.0            0.0          1.0   \n",
       "\n",
       "   K_atp:glyc1:phoxa  K_atp:glyc1:glyc2  K_atp:nopla:noprola  \\\n",
       "0                1.1                1.1                  0.0   \n",
       "1                1.0                1.0                  0.0   \n",
       "2                1.0                1.0                  0.0   \n",
       "3                1.0                1.0                  0.0   \n",
       "4                1.0                1.0                  0.0   \n",
       "\n",
       "   K_atp:nopla:phoxa  ...  K_nadh:gpdh:krebsn:noaas:phoxn  \\\n",
       "0                1.2  ...                             1.1   \n",
       "1                1.0  ...                             1.0   \n",
       "2                1.0  ...                             1.0   \n",
       "3                1.0  ...                             1.0   \n",
       "4                1.0  ...                             1.0   \n",
       "\n",
       "   K_nadh:fermn:krebsn:noaas:phoxn  K_nadh:fermn:gpdh:krebsn:noaas:phoxn  \\\n",
       "0                              1.1                                   1.1   \n",
       "1                              1.0                                   1.0   \n",
       "2                              1.0                                   1.0   \n",
       "3                              1.0                                   1.0   \n",
       "4                              1.0                                   1.0   \n",
       "\n",
       "   K_krebs  K_krebs:box  K_krebs:pnh  K_krebs:pnh:sat  K_phox  K_phox:pc  \\\n",
       "0      0.0          0.0          1.1              2.2     0.0        1.1   \n",
       "1      0.0          0.0          1.0              2.0     0.0        1.0   \n",
       "2      0.0          0.0          1.0              2.0     0.0        1.0   \n",
       "3      0.0          0.0          1.0              2.0     0.0        1.0   \n",
       "4      0.0          0.0          1.0              2.0     0.0        1.0   \n",
       "\n",
       "   Error explanation  \n",
       "0                NaN  \n",
       "1                NaN  \n",
       "2                NaN  \n",
       "3                NaN  \n",
       "4                NaN  \n",
       "\n",
       "[5 rows x 81 columns]"
      ]
     },
     "execution_count": 63,
     "metadata": {},
     "output_type": "execute_result"
    }
   ],
   "source": [
    "bio_cont_2.head(5)"
   ]
  },
  {
   "cell_type": "markdown",
   "metadata": {},
   "source": [
    "On enlève la première ligne qui est juste une indication sur les valeurs prises par chaque colonne."
   ]
  },
  {
   "cell_type": "code",
   "execution_count": 64,
   "metadata": {},
   "outputs": [],
   "source": [
    "bio_cont_2 = bio_cont_2.drop([0],axis=0)\n"
   ]
  },
  {
   "cell_type": "code",
   "execution_count": 65,
   "metadata": {},
   "outputs": [
    {
     "data": {
      "text/html": [
       "<div>\n",
       "<style scoped>\n",
       "    .dataframe tbody tr th:only-of-type {\n",
       "        vertical-align: middle;\n",
       "    }\n",
       "\n",
       "    .dataframe tbody tr th {\n",
       "        vertical-align: top;\n",
       "    }\n",
       "\n",
       "    .dataframe thead th {\n",
       "        text-align: right;\n",
       "    }\n",
       "</style>\n",
       "<table border=\"1\" class=\"dataframe\">\n",
       "  <thead>\n",
       "    <tr style=\"text-align: right;\">\n",
       "      <th></th>\n",
       "      <th>valid</th>\n",
       "      <th>K_atp</th>\n",
       "      <th>K_atp:glyc1</th>\n",
       "      <th>K_atp:nopla</th>\n",
       "      <th>K_atp:noprola</th>\n",
       "      <th>K_atp:phoxa</th>\n",
       "      <th>K_atp:glyc1:phoxa</th>\n",
       "      <th>K_atp:glyc1:glyc2</th>\n",
       "      <th>K_atp:nopla:noprola</th>\n",
       "      <th>K_atp:nopla:phoxa</th>\n",
       "      <th>...</th>\n",
       "      <th>K_nadh:gpdh:krebsn:noaas:phoxn</th>\n",
       "      <th>K_nadh:fermn:krebsn:noaas:phoxn</th>\n",
       "      <th>K_nadh:fermn:gpdh:krebsn:noaas:phoxn</th>\n",
       "      <th>K_krebs</th>\n",
       "      <th>K_krebs:box</th>\n",
       "      <th>K_krebs:pnh</th>\n",
       "      <th>K_krebs:pnh:sat</th>\n",
       "      <th>K_phox</th>\n",
       "      <th>K_phox:pc</th>\n",
       "      <th>Error explanation</th>\n",
       "    </tr>\n",
       "  </thead>\n",
       "  <tbody>\n",
       "    <tr>\n",
       "      <th>1</th>\n",
       "      <td>OK</td>\n",
       "      <td>0.0</td>\n",
       "      <td>0.0</td>\n",
       "      <td>0.0</td>\n",
       "      <td>0.0</td>\n",
       "      <td>1.0</td>\n",
       "      <td>1.0</td>\n",
       "      <td>1.0</td>\n",
       "      <td>0.0</td>\n",
       "      <td>1.0</td>\n",
       "      <td>...</td>\n",
       "      <td>1.0</td>\n",
       "      <td>1.0</td>\n",
       "      <td>1.0</td>\n",
       "      <td>0.0</td>\n",
       "      <td>0.0</td>\n",
       "      <td>1.0</td>\n",
       "      <td>2.0</td>\n",
       "      <td>0.0</td>\n",
       "      <td>1.0</td>\n",
       "      <td>NaN</td>\n",
       "    </tr>\n",
       "    <tr>\n",
       "      <th>2</th>\n",
       "      <td>OK</td>\n",
       "      <td>0.0</td>\n",
       "      <td>0.0</td>\n",
       "      <td>0.0</td>\n",
       "      <td>0.0</td>\n",
       "      <td>1.0</td>\n",
       "      <td>1.0</td>\n",
       "      <td>1.0</td>\n",
       "      <td>0.0</td>\n",
       "      <td>1.0</td>\n",
       "      <td>...</td>\n",
       "      <td>1.0</td>\n",
       "      <td>1.0</td>\n",
       "      <td>1.0</td>\n",
       "      <td>0.0</td>\n",
       "      <td>0.0</td>\n",
       "      <td>1.0</td>\n",
       "      <td>2.0</td>\n",
       "      <td>0.0</td>\n",
       "      <td>1.0</td>\n",
       "      <td>NaN</td>\n",
       "    </tr>\n",
       "    <tr>\n",
       "      <th>3</th>\n",
       "      <td>OK</td>\n",
       "      <td>0.0</td>\n",
       "      <td>0.0</td>\n",
       "      <td>0.0</td>\n",
       "      <td>0.0</td>\n",
       "      <td>1.0</td>\n",
       "      <td>1.0</td>\n",
       "      <td>1.0</td>\n",
       "      <td>0.0</td>\n",
       "      <td>1.0</td>\n",
       "      <td>...</td>\n",
       "      <td>1.0</td>\n",
       "      <td>1.0</td>\n",
       "      <td>1.0</td>\n",
       "      <td>0.0</td>\n",
       "      <td>0.0</td>\n",
       "      <td>1.0</td>\n",
       "      <td>2.0</td>\n",
       "      <td>0.0</td>\n",
       "      <td>1.0</td>\n",
       "      <td>NaN</td>\n",
       "    </tr>\n",
       "    <tr>\n",
       "      <th>4</th>\n",
       "      <td>OK</td>\n",
       "      <td>0.0</td>\n",
       "      <td>0.0</td>\n",
       "      <td>0.0</td>\n",
       "      <td>0.0</td>\n",
       "      <td>1.0</td>\n",
       "      <td>1.0</td>\n",
       "      <td>1.0</td>\n",
       "      <td>0.0</td>\n",
       "      <td>1.0</td>\n",
       "      <td>...</td>\n",
       "      <td>1.0</td>\n",
       "      <td>1.0</td>\n",
       "      <td>1.0</td>\n",
       "      <td>0.0</td>\n",
       "      <td>0.0</td>\n",
       "      <td>1.0</td>\n",
       "      <td>2.0</td>\n",
       "      <td>0.0</td>\n",
       "      <td>1.0</td>\n",
       "      <td>NaN</td>\n",
       "    </tr>\n",
       "    <tr>\n",
       "      <th>5</th>\n",
       "      <td>OK</td>\n",
       "      <td>0.0</td>\n",
       "      <td>0.0</td>\n",
       "      <td>0.0</td>\n",
       "      <td>0.0</td>\n",
       "      <td>1.0</td>\n",
       "      <td>1.0</td>\n",
       "      <td>1.0</td>\n",
       "      <td>0.0</td>\n",
       "      <td>1.0</td>\n",
       "      <td>...</td>\n",
       "      <td>1.0</td>\n",
       "      <td>1.0</td>\n",
       "      <td>1.0</td>\n",
       "      <td>0.0</td>\n",
       "      <td>0.0</td>\n",
       "      <td>1.0</td>\n",
       "      <td>2.0</td>\n",
       "      <td>0.0</td>\n",
       "      <td>1.0</td>\n",
       "      <td>NaN</td>\n",
       "    </tr>\n",
       "  </tbody>\n",
       "</table>\n",
       "<p>5 rows × 81 columns</p>\n",
       "</div>"
      ],
      "text/plain": [
       "  valid  K_atp  K_atp:glyc1  K_atp:nopla  K_atp:noprola  K_atp:phoxa  \\\n",
       "1    OK    0.0          0.0          0.0            0.0          1.0   \n",
       "2    OK    0.0          0.0          0.0            0.0          1.0   \n",
       "3    OK    0.0          0.0          0.0            0.0          1.0   \n",
       "4    OK    0.0          0.0          0.0            0.0          1.0   \n",
       "5    OK    0.0          0.0          0.0            0.0          1.0   \n",
       "\n",
       "   K_atp:glyc1:phoxa  K_atp:glyc1:glyc2  K_atp:nopla:noprola  \\\n",
       "1                1.0                1.0                  0.0   \n",
       "2                1.0                1.0                  0.0   \n",
       "3                1.0                1.0                  0.0   \n",
       "4                1.0                1.0                  0.0   \n",
       "5                1.0                1.0                  0.0   \n",
       "\n",
       "   K_atp:nopla:phoxa  ...  K_nadh:gpdh:krebsn:noaas:phoxn  \\\n",
       "1                1.0  ...                             1.0   \n",
       "2                1.0  ...                             1.0   \n",
       "3                1.0  ...                             1.0   \n",
       "4                1.0  ...                             1.0   \n",
       "5                1.0  ...                             1.0   \n",
       "\n",
       "   K_nadh:fermn:krebsn:noaas:phoxn  K_nadh:fermn:gpdh:krebsn:noaas:phoxn  \\\n",
       "1                              1.0                                   1.0   \n",
       "2                              1.0                                   1.0   \n",
       "3                              1.0                                   1.0   \n",
       "4                              1.0                                   1.0   \n",
       "5                              1.0                                   1.0   \n",
       "\n",
       "   K_krebs  K_krebs:box  K_krebs:pnh  K_krebs:pnh:sat  K_phox  K_phox:pc  \\\n",
       "1      0.0          0.0          1.0              2.0     0.0        1.0   \n",
       "2      0.0          0.0          1.0              2.0     0.0        1.0   \n",
       "3      0.0          0.0          1.0              2.0     0.0        1.0   \n",
       "4      0.0          0.0          1.0              2.0     0.0        1.0   \n",
       "5      0.0          0.0          1.0              2.0     0.0        1.0   \n",
       "\n",
       "   Error explanation  \n",
       "1                NaN  \n",
       "2                NaN  \n",
       "3                NaN  \n",
       "4                NaN  \n",
       "5                NaN  \n",
       "\n",
       "[5 rows x 81 columns]"
      ]
     },
     "execution_count": 65,
     "metadata": {},
     "output_type": "execute_result"
    }
   ],
   "source": [
    "bio_cont_2.head(5)"
   ]
  },
  {
   "cell_type": "code",
   "execution_count": 72,
   "metadata": {
    "scrolled": true
   },
   "outputs": [
    {
     "name": "stdout",
     "output_type": "stream",
     "text": [
      "(300, 81)\n"
     ]
    }
   ],
   "source": [
    "bio_cont_2.loc[bio_cont_2[\"valid\"]==\"OK\", \"valid\"] = 1\n",
    "bio_cont_2.loc[bio_cont_2[\"valid\"]==\"KO\", \"valid\"] = 0\n",
    "pandas.to_numeric(bio_cont_2[\"valid\"])\n",
    "bio_cont_2.head(3)\n",
    "print(bio_cont_2.shape)"
   ]
  },
  {
   "cell_type": "code",
   "execution_count": 78,
   "metadata": {},
   "outputs": [
    {
     "name": "stdout",
     "output_type": "stream",
     "text": [
      "(300, 80)\n"
     ]
    }
   ],
   "source": [
    "nv_base = bio_cont_2.drop(['Error explanation'],axis=1)\n",
    "print(nv_base.shape)"
   ]
  },
  {
   "cell_type": "code",
   "execution_count": 79,
   "metadata": {},
   "outputs": [],
   "source": [
    "from scipy.cluster.hierarchy import dendrogram, linkage"
   ]
  },
  {
   "cell_type": "code",
   "execution_count": 80,
   "metadata": {},
   "outputs": [],
   "source": [
    "Z = linkage(nv_base,method='average',metric='jaccard')"
   ]
  },
  {
   "cell_type": "code",
   "execution_count": 81,
   "metadata": {},
   "outputs": [
    {
     "data": {
      "image/png": "[encoded data removed]",
      "text/plain": [
       "<Figure size 1800x1800 with 1 Axes>"
      ]
     },
     "metadata": {
      "needs_background": "light"
     },
     "output_type": "display_data"
    }
   ],
   "source": [
    "fig = plt.figure(1, figsize=(25, 25))\n",
    "plt.title(\"CAH\")\n",
    "dendrogram(Z)\n",
    "plt.axhline(y=0.4)\n",
    "plt.show()"
   ]
  },
  {
   "cell_type": "markdown",
   "metadata": {},
   "source": [
    "D'après ce que j'ai compris pour l'instant on trouve le nombre de cluster optimal est trouveé en fonction de la distance qu'on souhaite entre 1 point et son plus proche voisin, dans notre cas si on prend la distance maximale = 0.4\n",
    "On trace une droite verticale au niveau de 0.4 et on compte le nombre de branches qu'on intercepte.\n",
    "Ici on trouve 4 clusters pour une distance maximale de 0.4\n",
    "On le visualise dans l'autre sens pour mieux voir."
   ]
  },
  {
   "cell_type": "code",
   "execution_count": 82,
   "metadata": {},
   "outputs": [
    {
     "data": {
      "image/png": "[encoded data removed]",
      "text/plain": [
       "<Figure size 1080x1800 with 1 Axes>"
      ]
     },
     "metadata": {
      "needs_background": "light"
     },
     "output_type": "display_data"
    }
   ],
   "source": [
    "fig = plt.figure(1, figsize=(15, 25))\n",
    "plt.title(\"CAH\")\n",
    "dendrogram(Z,orientation='left')\n",
    "plt.axhline(y=0.4)\n",
    "plt.show()"
   ]
  },
  {
   "cell_type": "markdown",
   "metadata": {},
   "source": [
    "Pour l'instant on ne sait pas trop combien il faut de cluster.\n",
    "Prenons arbitrairement 2."
   ]
  },
  {
   "cell_type": "code",
   "execution_count": 118,
   "metadata": {},
   "outputs": [],
   "source": [
    "k = 6"
   ]
  },
  {
   "cell_type": "code",
   "execution_count": 119,
   "metadata": {},
   "outputs": [],
   "source": [
    "from scipy.cluster.hierarchy import fcluster, cophenet\n",
    "from sklearn.cluster import AgglomerativeClustering\n",
    "import sklearn.metrics as sm"
   ]
  },
  {
   "cell_type": "code",
   "execution_count": 120,
   "metadata": {},
   "outputs": [],
   "source": [
    "Hc = AgglomerativeClustering(n_clusters=k, affinity='jaccard', linkage='average')"
   ]
  },
  {
   "cell_type": "code",
   "execution_count": 121,
   "metadata": {},
   "outputs": [
    {
     "data": {
      "text/plain": [
       "AgglomerativeClustering(affinity='jaccard', linkage='average', n_clusters=6)"
      ]
     },
     "execution_count": 121,
     "metadata": {},
     "output_type": "execute_result"
    }
   ],
   "source": [
    "Hc.fit(nv_base)"
   ]
  },
  {
   "cell_type": "code",
   "execution_count": 122,
   "metadata": {},
   "outputs": [],
   "source": [
    "l = Hc.labels_"
   ]
  },
  {
   "cell_type": "code",
   "execution_count": 123,
   "metadata": {},
   "outputs": [],
   "source": [
    "def affiche_cluster(label, nb_cluster):\n",
    "    for i in range(nb_cluster):\n",
    "        print(np.where(label==i))"
   ]
  },
  {
   "cell_type": "code",
   "execution_count": 124,
   "metadata": {},
   "outputs": [
    {
     "name": "stdout",
     "output_type": "stream",
     "text": [
      "(array([  3,   4,   5,   6,   7,   8,   9,  10,  11,  12,  13,  14,  18,\n",
      "        19,  20,  21,  22,  23,  24,  25,  26,  27,  28,  29,  33,  34,\n",
      "        35,  36,  37,  38,  39,  40,  41,  42,  43,  44,  48,  49,  50,\n",
      "        51,  52,  53,  54,  55,  56,  57,  58,  59,  63,  64,  65,  66,\n",
      "        67,  68,  69,  70,  71,  72,  73,  74,  78,  79,  80,  81,  82,\n",
      "        83,  84,  85,  86,  87,  88,  89,  93,  94,  95,  96,  97,  98,\n",
      "        99, 100, 101, 102, 103, 104, 108, 109, 110, 111, 112, 113, 114,\n",
      "       115, 116, 117, 118, 119]),)\n",
      "(array([120, 121, 122, 135, 136, 137, 150, 151, 152, 165, 166, 167, 180,\n",
      "       181, 182, 195, 196, 197, 210, 211, 212, 225, 226, 227, 240, 241,\n",
      "       242, 255, 256, 257, 270, 271, 272, 285, 286, 287]),)\n",
      "(array([125, 126, 127, 128, 129, 130, 131, 132, 133, 134, 140, 141, 142,\n",
      "       143, 144, 145, 146, 147, 148, 149, 155, 156, 157, 158, 159, 160,\n",
      "       161, 162, 163, 164, 170, 171, 172, 173, 174, 175, 176, 177, 178,\n",
      "       179, 185, 186, 187, 188, 189, 190, 191, 192, 193, 194, 200, 201,\n",
      "       202, 203, 204, 205, 206, 207, 208, 209, 230, 245]),)\n",
      "(array([  0,   1,   2,  15,  16,  17,  30,  31,  32,  45,  46,  47,  60,\n",
      "        61,  62,  75,  76,  77,  90,  91,  92, 105, 106, 107]),)\n",
      "(array([215, 216, 217, 218, 219, 220, 221, 222, 223, 224, 231, 232, 233,\n",
      "       234, 235, 236, 237, 238, 239, 246, 247, 248, 249, 250, 251, 252,\n",
      "       253, 254, 260, 261, 262, 263, 264, 265, 266, 267, 268, 269, 275,\n",
      "       276, 277, 278, 279, 280, 281, 282, 283, 284, 290, 291, 292, 293,\n",
      "       294, 295, 296, 297, 298, 299]),)\n",
      "(array([123, 124, 138, 139, 153, 154, 168, 169, 183, 184, 198, 199, 213,\n",
      "       214, 228, 229, 243, 244, 258, 259, 273, 274, 288, 289]),)\n"
     ]
    }
   ],
   "source": [
    "affiche_cluster(l,k)"
   ]
  },
  {
   "cell_type": "markdown",
   "metadata": {},
   "source": [
    "On remarque que les clusters 1 et 2 sont composés uniquement de modèle OK"
   ]
  },
  {
   "cell_type": "markdown",
   "metadata": {},
   "source": [
    "Maintenant on va enlever la colonne valid et voir ce qu'on obtient comme cluster."
   ]
  },
  {
   "cell_type": "code",
   "execution_count": 125,
   "metadata": {},
   "outputs": [],
   "source": [
    "nv_base_2 = nv_base.drop([\"valid\"], axis = 1)"
   ]
  },
  {
   "cell_type": "code",
   "execution_count": 173,
   "metadata": {},
   "outputs": [],
   "source": [
    "k = 4\n",
    "#Hc = AgglomerativeClustering(n_clusters=k, affinity='jaccard', linkage='complete')\n",
    "Hc = AgglomerativeClustering(n_clusters=k, affinity='euclidean', linkage='complete')\n",
    "Hc.fit(nv_base_2)\n",
    "l = Hc.labels_\n",
    "#affiche_cluster(l,k)"
   ]
  },
  {
   "cell_type": "code",
   "execution_count": 174,
   "metadata": {},
   "outputs": [
    {
     "data": {
      "text/plain": [
       "<matplotlib.lines.Line2D at 0x7fe31a534cd0>"
      ]
     },
     "execution_count": 174,
     "metadata": {},
     "output_type": "execute_result"
    },
    {
     "data": {
      "image/png": "[encoded data removed]",
      "text/plain": [
       "<Figure size 2160x720 with 1 Axes>"
      ]
     },
     "metadata": {
      "needs_background": "light"
     },
     "output_type": "display_data"
    }
   ],
   "source": [
    "fig = plt.figure(2, figsize = (30,10))\n",
    "plt.scatter(range(300),l)\n",
    "plt.axvline(x=120)"
   ]
  },
  {
   "cell_type": "code",
   "execution_count": null,
   "metadata": {},
   "outputs": [],
   "source": []
  },
  {
   "cell_type": "code",
   "execution_count": null,
   "metadata": {},
   "outputs": [],
   "source": []
  }
 ],
 "metadata": {
  "kernelspec": {
   "display_name": "Python 3",
   "language": "python",
   "name": "python3"
  },
  "language_info": {
   "codemirror_mode": {
    "name": "ipython",
    "version": 3
   },
   "file_extension": ".py",
   "mimetype": "text/x-python",
   "name": "python",
   "nbconvert_exporter": "python",
   "pygments_lexer": "ipython3",
   "version": "3.8.3"
  }
 },
 "nbformat": 4,
 "nbformat_minor": 4
}
