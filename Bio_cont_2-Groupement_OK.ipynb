{
 "cells": [
  {
   "cell_type": "code",
   "execution_count": 54,
   "metadata": {},
   "outputs": [],
   "source": [
    "import numpy as np\n",
    "import pandas\n",
    "from sklearn import datasets\n",
    "import matplotlib.pyplot as plt\n",
    "from mpl_toolkits.mplot3d import Axes3D\n",
    "from sklearn.cluster import KMeans\n",
    "import networkx as nx"
   ]
  },
  {
   "cell_type": "markdown",
   "metadata": {},
   "source": [
    "Pour des raisons de praticité nous avons modifié le csv que Laetitia nous avait envoyé. "
   ]
  },
  {
   "cell_type": "code",
   "execution_count": 115,
   "metadata": {},
   "outputs": [
    {
     "name": "stdout",
     "output_type": "stream",
     "text": [
      "(301, 81)\n"
     ]
    }
   ],
   "source": [
    "bio_cont_2_ini = pandas.read_csv('MAM4-exemples/bio_cont_2.csv')\n",
    "print(bio_cont_2_ini.shape)"
   ]
  },
  {
   "cell_type": "code",
   "execution_count": 116,
   "metadata": {},
   "outputs": [
    {
     "data": {
      "text/html": [
       "<div>\n",
       "<style scoped>\n",
       "    .dataframe tbody tr th:only-of-type {\n",
       "        vertical-align: middle;\n",
       "    }\n",
       "\n",
       "    .dataframe tbody tr th {\n",
       "        vertical-align: top;\n",
       "    }\n",
       "\n",
       "    .dataframe thead th {\n",
       "        text-align: right;\n",
       "    }\n",
       "</style>\n",
       "<table border=\"1\" class=\"dataframe\">\n",
       "  <thead>\n",
       "    <tr style=\"text-align: right;\">\n",
       "      <th></th>\n",
       "      <th>valid</th>\n",
       "      <th>K_atp</th>\n",
       "      <th>K_atp:glyc1</th>\n",
       "      <th>K_atp:nopla</th>\n",
       "      <th>K_atp:noprola</th>\n",
       "      <th>K_atp:phoxa</th>\n",
       "      <th>K_atp:glyc1:phoxa</th>\n",
       "      <th>K_atp:glyc1:glyc2</th>\n",
       "      <th>K_atp:nopla:noprola</th>\n",
       "      <th>K_atp:nopla:phoxa</th>\n",
       "      <th>...</th>\n",
       "      <th>K_nadh:gpdh:krebsn:noaas:phoxn</th>\n",
       "      <th>K_nadh:fermn:krebsn:noaas:phoxn</th>\n",
       "      <th>K_nadh:fermn:gpdh:krebsn:noaas:phoxn</th>\n",
       "      <th>K_krebs</th>\n",
       "      <th>K_krebs:box</th>\n",
       "      <th>K_krebs:pnh</th>\n",
       "      <th>K_krebs:pnh:sat</th>\n",
       "      <th>K_phox</th>\n",
       "      <th>K_phox:pc</th>\n",
       "      <th>Error explanation</th>\n",
       "    </tr>\n",
       "  </thead>\n",
       "  <tbody>\n",
       "    <tr>\n",
       "      <th>0</th>\n",
       "      <td>NaN</td>\n",
       "      <td>0.0</td>\n",
       "      <td>0.0</td>\n",
       "      <td>0.0</td>\n",
       "      <td>0.0</td>\n",
       "      <td>1.1</td>\n",
       "      <td>1.1</td>\n",
       "      <td>1.1</td>\n",
       "      <td>0.0</td>\n",
       "      <td>1.2</td>\n",
       "      <td>...</td>\n",
       "      <td>1.1</td>\n",
       "      <td>1.1</td>\n",
       "      <td>1.1</td>\n",
       "      <td>0.0</td>\n",
       "      <td>0.0</td>\n",
       "      <td>1.1</td>\n",
       "      <td>2.2</td>\n",
       "      <td>0.0</td>\n",
       "      <td>1.1</td>\n",
       "      <td>NaN</td>\n",
       "    </tr>\n",
       "    <tr>\n",
       "      <th>1</th>\n",
       "      <td>OK</td>\n",
       "      <td>0.0</td>\n",
       "      <td>0.0</td>\n",
       "      <td>0.0</td>\n",
       "      <td>0.0</td>\n",
       "      <td>1.0</td>\n",
       "      <td>1.0</td>\n",
       "      <td>1.0</td>\n",
       "      <td>0.0</td>\n",
       "      <td>1.0</td>\n",
       "      <td>...</td>\n",
       "      <td>1.0</td>\n",
       "      <td>1.0</td>\n",
       "      <td>1.0</td>\n",
       "      <td>0.0</td>\n",
       "      <td>0.0</td>\n",
       "      <td>1.0</td>\n",
       "      <td>2.0</td>\n",
       "      <td>0.0</td>\n",
       "      <td>1.0</td>\n",
       "      <td>NaN</td>\n",
       "    </tr>\n",
       "    <tr>\n",
       "      <th>2</th>\n",
       "      <td>OK</td>\n",
       "      <td>0.0</td>\n",
       "      <td>0.0</td>\n",
       "      <td>0.0</td>\n",
       "      <td>0.0</td>\n",
       "      <td>1.0</td>\n",
       "      <td>1.0</td>\n",
       "      <td>1.0</td>\n",
       "      <td>0.0</td>\n",
       "      <td>1.0</td>\n",
       "      <td>...</td>\n",
       "      <td>1.0</td>\n",
       "      <td>1.0</td>\n",
       "      <td>1.0</td>\n",
       "      <td>0.0</td>\n",
       "      <td>0.0</td>\n",
       "      <td>1.0</td>\n",
       "      <td>2.0</td>\n",
       "      <td>0.0</td>\n",
       "      <td>1.0</td>\n",
       "      <td>NaN</td>\n",
       "    </tr>\n",
       "    <tr>\n",
       "      <th>3</th>\n",
       "      <td>OK</td>\n",
       "      <td>0.0</td>\n",
       "      <td>0.0</td>\n",
       "      <td>0.0</td>\n",
       "      <td>0.0</td>\n",
       "      <td>1.0</td>\n",
       "      <td>1.0</td>\n",
       "      <td>1.0</td>\n",
       "      <td>0.0</td>\n",
       "      <td>1.0</td>\n",
       "      <td>...</td>\n",
       "      <td>1.0</td>\n",
       "      <td>1.0</td>\n",
       "      <td>1.0</td>\n",
       "      <td>0.0</td>\n",
       "      <td>0.0</td>\n",
       "      <td>1.0</td>\n",
       "      <td>2.0</td>\n",
       "      <td>0.0</td>\n",
       "      <td>1.0</td>\n",
       "      <td>NaN</td>\n",
       "    </tr>\n",
       "    <tr>\n",
       "      <th>4</th>\n",
       "      <td>OK</td>\n",
       "      <td>0.0</td>\n",
       "      <td>0.0</td>\n",
       "      <td>0.0</td>\n",
       "      <td>0.0</td>\n",
       "      <td>1.0</td>\n",
       "      <td>1.0</td>\n",
       "      <td>1.0</td>\n",
       "      <td>0.0</td>\n",
       "      <td>1.0</td>\n",
       "      <td>...</td>\n",
       "      <td>1.0</td>\n",
       "      <td>1.0</td>\n",
       "      <td>1.0</td>\n",
       "      <td>0.0</td>\n",
       "      <td>0.0</td>\n",
       "      <td>1.0</td>\n",
       "      <td>2.0</td>\n",
       "      <td>0.0</td>\n",
       "      <td>1.0</td>\n",
       "      <td>NaN</td>\n",
       "    </tr>\n",
       "  </tbody>\n",
       "</table>\n",
       "<p>5 rows × 81 columns</p>\n",
       "</div>"
      ],
      "text/plain": [
       "  valid  K_atp  K_atp:glyc1  K_atp:nopla  K_atp:noprola  K_atp:phoxa  \\\n",
       "0   NaN    0.0          0.0          0.0            0.0          1.1   \n",
       "1    OK    0.0          0.0          0.0            0.0          1.0   \n",
       "2    OK    0.0          0.0          0.0            0.0          1.0   \n",
       "3    OK    0.0          0.0          0.0            0.0          1.0   \n",
       "4    OK    0.0          0.0          0.0            0.0          1.0   \n",
       "\n",
       "   K_atp:glyc1:phoxa  K_atp:glyc1:glyc2  K_atp:nopla:noprola  \\\n",
       "0                1.1                1.1                  0.0   \n",
       "1                1.0                1.0                  0.0   \n",
       "2                1.0                1.0                  0.0   \n",
       "3                1.0                1.0                  0.0   \n",
       "4                1.0                1.0                  0.0   \n",
       "\n",
       "   K_atp:nopla:phoxa  ...  K_nadh:gpdh:krebsn:noaas:phoxn  \\\n",
       "0                1.2  ...                             1.1   \n",
       "1                1.0  ...                             1.0   \n",
       "2                1.0  ...                             1.0   \n",
       "3                1.0  ...                             1.0   \n",
       "4                1.0  ...                             1.0   \n",
       "\n",
       "   K_nadh:fermn:krebsn:noaas:phoxn  K_nadh:fermn:gpdh:krebsn:noaas:phoxn  \\\n",
       "0                              1.1                                   1.1   \n",
       "1                              1.0                                   1.0   \n",
       "2                              1.0                                   1.0   \n",
       "3                              1.0                                   1.0   \n",
       "4                              1.0                                   1.0   \n",
       "\n",
       "   K_krebs  K_krebs:box  K_krebs:pnh  K_krebs:pnh:sat  K_phox  K_phox:pc  \\\n",
       "0      0.0          0.0          1.1              2.2     0.0        1.1   \n",
       "1      0.0          0.0          1.0              2.0     0.0        1.0   \n",
       "2      0.0          0.0          1.0              2.0     0.0        1.0   \n",
       "3      0.0          0.0          1.0              2.0     0.0        1.0   \n",
       "4      0.0          0.0          1.0              2.0     0.0        1.0   \n",
       "\n",
       "   Error explanation  \n",
       "0                NaN  \n",
       "1                NaN  \n",
       "2                NaN  \n",
       "3                NaN  \n",
       "4                NaN  \n",
       "\n",
       "[5 rows x 81 columns]"
      ]
     },
     "execution_count": 116,
     "metadata": {},
     "output_type": "execute_result"
    }
   ],
   "source": [
    "bio_cont_2_ini.head(5)"
   ]
  },
  {
   "cell_type": "markdown",
   "metadata": {},
   "source": [
    "On enlève la première ligne qui est juste une indication sur les valeurs prises par chaque colonne."
   ]
  },
  {
   "cell_type": "code",
   "execution_count": 131,
   "metadata": {},
   "outputs": [],
   "source": [
    "ligne_1 = bio_cont_2_ini.iloc[0]\n",
    "l1 = ligne_1.to_numpy()\n",
    "bio_cont_2 = bio_cont_2_ini.drop([0],axis=0)\n",
    "np_2 = bio_cont_2.to_numpy()"
   ]
  },
  {
   "cell_type": "code",
   "execution_count": 118,
   "metadata": {},
   "outputs": [],
   "source": [
    "def trouve_premier_ko(base):\n",
    "    \"\"\"base : tableau numpy\n",
    "        retourne : la première ligne à laquelle est présente un KO\"\"\"\n",
    "    n,m = np.shape(base)\n",
    "    i = 0\n",
    "    b = True\n",
    "    indice = -1\n",
    "    while(i < n and b):\n",
    "        if(base[i][0] == \"KO\"):\n",
    "            ind = i\n",
    "            b = False\n",
    "        i = i+1\n",
    "    return ind"
   ]
  },
  {
   "cell_type": "code",
   "execution_count": 119,
   "metadata": {},
   "outputs": [
    {
     "name": "stdout",
     "output_type": "stream",
     "text": [
      "120\n"
     ]
    }
   ],
   "source": [
    "a = trouve_premier_ko(np_2)\n",
    "print(a)"
   ]
  },
  {
   "cell_type": "markdown",
   "metadata": {},
   "source": [
    "Donc pour ce fichier à partir de la ligne 120 il y a les KO\n",
    "On va donc couper le fichier en 2 bases pour d'abord traiter uniquement que les cas OK"
   ]
  },
  {
   "cell_type": "code",
   "execution_count": 87,
   "metadata": {},
   "outputs": [],
   "source": [
    "#base de ok\n",
    "OK_base = bio_cont_2[:a]\n",
    "#base de ko\n",
    "KO_base = bio_cont_2[a:]"
   ]
  },
  {
   "cell_type": "code",
   "execution_count": 88,
   "metadata": {},
   "outputs": [],
   "source": [
    "OK_base = OK_base.drop(['Error explanation'],axis=1)\n",
    "KO_base = KO_base.drop(['Error explanation'],axis=1)\n",
    "OK_base = OK_base.drop(['valid'],axis=1)\n",
    "KO_base = KO_base.drop(['valid'],axis=1)"
   ]
  },
  {
   "cell_type": "code",
   "execution_count": 89,
   "metadata": {},
   "outputs": [],
   "source": [
    "from scipy.cluster.hierarchy import dendrogram, linkage"
   ]
  },
  {
   "cell_type": "code",
   "execution_count": 90,
   "metadata": {},
   "outputs": [],
   "source": [
    "Z = linkage(OK_base,method='average',metric='jaccard')"
   ]
  },
  {
   "cell_type": "code",
   "execution_count": 91,
   "metadata": {},
   "outputs": [
    {
     "data": {
      "image/png": "[encoded data removed]",
      "text/plain": [
       "<Figure size 1800x1800 with 1 Axes>"
      ]
     },
     "metadata": {
      "needs_background": "light"
     },
     "output_type": "display_data"
    }
   ],
   "source": [
    "fig = plt.figure(1, figsize=(25, 25))\n",
    "plt.title(\"CAH\")\n",
    "dendrogram(Z)\n",
    "plt.axhline(y=0.12)\n",
    "plt.show()"
   ]
  },
  {
   "cell_type": "markdown",
   "metadata": {},
   "source": [
    "D'après ce que j'ai compris pour l'instant on trouve le nombre de cluster optimal est trouveé en fonction de la distance qu'on souhaite entre 1 point et son plus proche voisin, dans notre cas si on prend la distance maximale = 0.4\n",
    "On trace une droite verticale au niveau de 0.4 et on compte le nombre de branches qu'on intercepte.\n",
    "Ici on trouve 4 clusters pour une distance maximale de 0.4\n",
    "On le visualise dans l'autre sens pour mieux voir."
   ]
  },
  {
   "cell_type": "code",
   "execution_count": 94,
   "metadata": {},
   "outputs": [
    {
     "data": {
      "image/png": "[encoded data removed]",
      "text/plain": [
       "<Figure size 1080x1800 with 1 Axes>"
      ]
     },
     "metadata": {
      "needs_background": "light"
     },
     "output_type": "display_data"
    }
   ],
   "source": [
    "fig = plt.figure(1, figsize=(15, 25))\n",
    "plt.title(\"CAH\")\n",
    "dendrogram(Z,orientation='left')\n",
    "plt.axvline(x=0.06)\n",
    "plt.show()"
   ]
  },
  {
   "cell_type": "markdown",
   "metadata": {},
   "source": [
    "Pour l'instant on ne sait pas trop combien il faut de cluster."
   ]
  },
  {
   "cell_type": "code",
   "execution_count": 314,
   "metadata": {},
   "outputs": [],
   "source": [
    "k = 4"
   ]
  },
  {
   "cell_type": "code",
   "execution_count": 315,
   "metadata": {},
   "outputs": [],
   "source": [
    "from scipy.cluster.hierarchy import fcluster, cophenet\n",
    "from sklearn.cluster import AgglomerativeClustering\n",
    "import sklearn.metrics as sm"
   ]
  },
  {
   "cell_type": "code",
   "execution_count": 316,
   "metadata": {},
   "outputs": [],
   "source": [
    "Hc = AgglomerativeClustering(n_clusters=k, affinity='jaccard', linkage='average')"
   ]
  },
  {
   "cell_type": "code",
   "execution_count": 317,
   "metadata": {},
   "outputs": [
    {
     "data": {
      "text/plain": [
       "AgglomerativeClustering(affinity='jaccard', linkage='average', n_clusters=4)"
      ]
     },
     "execution_count": 317,
     "metadata": {},
     "output_type": "execute_result"
    }
   ],
   "source": [
    "Hc.fit(OK_base)"
   ]
  },
  {
   "cell_type": "code",
   "execution_count": 318,
   "metadata": {},
   "outputs": [],
   "source": [
    "l = Hc.labels_"
   ]
  },
  {
   "cell_type": "code",
   "execution_count": 319,
   "metadata": {},
   "outputs": [],
   "source": [
    "def affiche_cluster(label, nb_cluster):\n",
    "    for i in range(nb_cluster):\n",
    "        print(np.where(label==i))\n",
    "        \n",
    "def retourne_cluster(label, nb_cluster):\n",
    "    tableau = []\n",
    "    for i in range(nb_cluster):\n",
    "        tableau.append(np.where(label==i))\n",
    "    return tableau"
   ]
  },
  {
   "cell_type": "code",
   "execution_count": 320,
   "metadata": {},
   "outputs": [
    {
     "name": "stdout",
     "output_type": "stream",
     "text": [
      "(array([  0,   1,   2,  15,  16,  17,  30,  31,  32,  45,  46,  47,  60,\n",
      "        61,  62,  75,  76,  77,  90,  91,  92, 105, 106, 107]),)\n",
      "(array([ 3,  4,  5,  7,  9, 11, 13, 18, 19, 20, 22, 24, 26, 28, 33, 34, 35,\n",
      "       37, 39, 41, 43, 48, 49, 50, 52, 54, 56, 58]),)\n",
      "(array([ 63,  64,  65,  66,  67,  68,  69,  70,  71,  72,  73,  74,  78,\n",
      "        79,  80,  81,  82,  83,  84,  85,  86,  87,  88,  89,  93,  94,\n",
      "        95,  96,  97,  98,  99, 100, 101, 102, 103, 104, 108, 109, 110,\n",
      "       111, 112, 113, 114, 115, 116, 117, 118, 119]),)\n",
      "(array([ 6,  8, 10, 12, 14, 21, 23, 25, 27, 29, 36, 38, 40, 42, 44, 51, 53,\n",
      "       55, 57, 59]),)\n"
     ]
    }
   ],
   "source": [
    "affiche_cluster(l,k)\n",
    "clusters = retourne_cluster(l,k)"
   ]
  },
  {
   "cell_type": "code",
   "execution_count": 321,
   "metadata": {},
   "outputs": [
    {
     "data": {
      "text/plain": [
       "<matplotlib.lines.Line2D at 0x7f001c5462b0>"
      ]
     },
     "execution_count": 321,
     "metadata": {},
     "output_type": "execute_result"
    },
    {
     "data": {
      "image/png": "[encoded data removed]",
      "text/plain": [
       "<Figure size 2160x720 with 1 Axes>"
      ]
     },
     "metadata": {
      "needs_background": "light"
     },
     "output_type": "display_data"
    }
   ],
   "source": [
    "fig = plt.figure(2, figsize = (30,10))\n",
    "plt.scatter(range(120),l)\n",
    "plt.axvline(x=120)"
   ]
  },
  {
   "cell_type": "markdown",
   "metadata": {},
   "source": [
    "On va faire une fonction qui permet de donner les colonnes qui ne sont pas partagées par tous les éléments d'un cluster.\n",
    "Et voir si les colonnes qui ne sont pas en commun prennent toutes les valeurs possibles."
   ]
  },
  {
   "cell_type": "code",
   "execution_count": 327,
   "metadata": {},
   "outputs": [],
   "source": [
    "def recup_col_importante(vect_val):\n",
    "    n = np.size(vect_val)\n",
    "    val_import = []\n",
    "    for i in range(n):\n",
    "        a =vect_val[i]\n",
    "        entier = int(a)\n",
    "        decim = int(round(a%1,2)*10)\n",
    "        if(entier != decim):\n",
    "            val_import.append(i)\n",
    "    return val_import\n",
    "\n",
    "def colonne_diff(l1, cluster,bd):\n",
    "    \"\"\"l1 est la premiere ligne de la base de donnée\n",
    "        cluster est un tableau qui contient tous les indices des modèles de ce cluster\"\"\"\n",
    "    #on recupere toutes les colonnes qui sont susceptibles de prendre des val différentes.\n",
    "    vect = recup_col_importante(l1)\n",
    "    \n",
    "    #on veut garder seulement les lignes utiles\n",
    "    tableau = bd.to_numpy()\n",
    "    tableau = tableau[cluster,:]\n",
    "    \n",
    "    #on redimensionne notre table correctement\n",
    "    o,p,q = np.shape(tableau)\n",
    "    tableau = np.reshape(tableau,(p,q))\n",
    "    o1,p1 = np.shape(cluster)\n",
    "    cluster = np.reshape(cluster,p1)\n",
    "    #l1 = l1[vect]\n",
    "    #pour chaque colonne on va regarder si toutes les valeurs sont prises ou pas.\n",
    "    indice = []\n",
    "    for i in vect:\n",
    "        val_min = int(l1[i])\n",
    "        val_max = int(round(l1[i]%1,2)*10)\n",
    "        tab_min = np.min(tableau[:,i])\n",
    "        tab_max = np.max(tableau[:,i])\n",
    "        if(val_min!=tab_min or val_max != tab_max):\n",
    "            indice.append(i)\n",
    "    return indice"
   ]
  },
  {
   "cell_type": "code",
   "execution_count": 328,
   "metadata": {},
   "outputs": [],
   "source": [
    "l1[0] = 0.0\n",
    "l1[-1] = 0.0"
   ]
  },
  {
   "cell_type": "markdown",
   "metadata": {},
   "source": [
    "Essai pour un cluster"
   ]
  },
  {
   "cell_type": "code",
   "execution_count": 329,
   "metadata": {},
   "outputs": [
    {
     "name": "stdout",
     "output_type": "stream",
     "text": [
      "[9, 10, 13, 16, 33, 34]\n"
     ]
    }
   ],
   "source": [
    "i = colonne_diff(l1,clusters[0],bio_cont_2 )\n",
    "print(i)"
   ]
  },
  {
   "cell_type": "markdown",
   "metadata": {},
   "source": [
    "On va faire une fonction qui pour chaque cluster calcule les colonnes charnieres."
   ]
  },
  {
   "cell_type": "code",
   "execution_count": 330,
   "metadata": {},
   "outputs": [],
   "source": [
    "def colonne_diff_tot(l1,clusters,bd):\n",
    "    recap = []\n",
    "    n,m = np.shape(clusters)\n",
    "    for i in range(n):\n",
    "        recap.append(colonne_diff(l1, clusters[i],bd))\n",
    "    return recap"
   ]
  },
  {
   "cell_type": "code",
   "execution_count": 331,
   "metadata": {},
   "outputs": [
    {
     "name": "stdout",
     "output_type": "stream",
     "text": [
      "[[9, 10, 13, 16, 33, 34], [9, 21, 33, 34, 35, 36], [21, 33, 34, 36, 37], [9, 16, 21, 33, 34, 35, 36]]\n"
     ]
    }
   ],
   "source": [
    "print(colonne_diff_tot(l1,clusters, bio_cont_2))"
   ]
  },
  {
   "cell_type": "code",
   "execution_count": null,
   "metadata": {},
   "outputs": [],
   "source": []
  },
  {
   "cell_type": "code",
   "execution_count": null,
   "metadata": {},
   "outputs": [],
   "source": []
  },
  {
   "cell_type": "code",
   "execution_count": null,
   "metadata": {},
   "outputs": [],
   "source": []
  },
  {
   "cell_type": "code",
   "execution_count": null,
   "metadata": {},
   "outputs": [],
   "source": []
  },
  {
   "cell_type": "code",
   "execution_count": null,
   "metadata": {},
   "outputs": [],
   "source": []
  }
 ],
 "metadata": {
  "kernelspec": {
   "display_name": "Python 3",
   "language": "python",
   "name": "python3"
  },
  "language_info": {
   "codemirror_mode": {
    "name": "ipython",
    "version": 3
   },
   "file_extension": ".py",
   "mimetype": "text/x-python",
   "name": "python",
   "nbconvert_exporter": "python",
   "pygments_lexer": "ipython3",
   "version": "3.8.3"
  }
 },
 "nbformat": 4,
 "nbformat_minor": 4
}
